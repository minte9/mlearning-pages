{
 "cells": [
  {
   "cell_type": "markdown",
   "metadata": {},
   "source": [
    "### Probability Distributions\n",
    "\n",
    "Probability distribution is a mathematical `function` that describes the probabilities for all outcomes of random variable.   \n",
    "Random `variables` are characteristics that you can observe, but you don't control them.  \n",
    "\n",
    "Probability distributions are `useful` when you need to know which outcomes are more likely,  \n",
    "the spread of potential values, and the likelihood of different results.  "
   ]
  },
  {
   "cell_type": "markdown",
   "metadata": {},
   "source": [
    "### Histograms\n",
    "\n",
    "In histograms we are displaying the `properties` of distributions (shape, center, spread).   \n",
    "Probability distributions are similar, except that the `focus` is on probabilities of the outcomes.  \n",
    "\n",
    "Histograms represent samples while probability distributions describe `populations`.  \n",
    "The `sum` of all probabilities for all posssible values must equal 1.  "
   ]
  },
  {
   "cell_type": "markdown",
   "metadata": {},
   "source": [
    "### Discrete Probability Distributions\n",
    "\n",
    "Discrete probability functions have only `distinct` values.  \n",
    "For `example`, coin tosses and counts of events are discrete functions.  "
   ]
  }
 ],
 "metadata": {
  "language_info": {
   "name": "python"
  }
 },
 "nbformat": 4,
 "nbformat_minor": 2
}
