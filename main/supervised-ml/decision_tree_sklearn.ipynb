{
 "cells": [
  {
   "attachments": {},
   "cell_type": "markdown",
   "metadata": {},
   "source": [
    "### Decision Tree / Classifier\n",
    "\n",
    "The model learn a hierarchy `if/else` questions, leading to a decision.  \n",
    "The model can make prediction only for `known` sample from dataset.  \n",
    "\n",
    "Given `certain` values for each of the attributes, the learned decision tree can give an `answer`.  \n",
    "It can tell if the weather is `suitable` or not for tennis."
   ]
  },
  {
   "cell_type": "code",
   "execution_count": 2,
   "metadata": {},
   "outputs": [
    {
     "name": "stdout",
     "output_type": "stream",
     "text": [
      "Dataset:\n",
      "     outlook  temp humidity  windy play\n",
      "0      sunny   hot     high  False   no\n",
      "1      sunny   hot     high   True   no\n",
      "2   overcast   hot     high  False  yes\n",
      "3      rainy  mild     high  False  yes\n",
      "4      rainy  cool   normal  False  yes\n",
      "5      rainy  cool   normal   True   no\n",
      "6   overcast  cool   normal   True  yes\n",
      "7      sunny  mild     high  False   no\n",
      "8      sunny  cool   normal  False  yes\n",
      "9      rainy  mild   normal  False  yes\n",
      "10     sunny  mild   normal   True  yes\n",
      "11  overcast  mild     high   True  yes\n",
      "12  overcast   hot   normal  False  yes\n",
      "13     rainy  mild     high   True   no \n",
      "\n",
      "Encoded:\n",
      "    outlook  temp  humidity  windy  play\n",
      "0         2     1         0      0     0\n",
      "1         2     1         0      1     0\n",
      "2         0     1         0      0     1\n",
      "3         1     2         0      0     1\n",
      "4         1     0         1      0     1\n",
      "5         1     0         1      1     0\n",
      "6         0     0         1      1     1\n",
      "7         2     2         0      0     0\n",
      "8         2     0         1      0     1\n",
      "9         1     2         1      0     1\n",
      "10        2     2         1      1     1\n",
      "11        0     2         0      1     1\n",
      "12        0     1         1      0     1\n",
      "13        1     2         0      1     0 \n",
      "\n",
      "Unknown:\n",
      "   outlook  temp  humidity  windy\n",
      "0        1     0         1      0 \n",
      "\n",
      "Prediction: 1\n"
     ]
    }
   ],
   "source": [
    "\"\"\" Decision Tree / Classifier (Play Tennis)\n",
    "\"\"\"\n",
    "\n",
    "import pandas as pd\n",
    "import numpy as np\n",
    "from sklearn.preprocessing import LabelEncoder\n",
    "from sklearn.tree import DecisionTreeClassifier\n",
    "\n",
    "# Dataset\n",
    "df = pd.read_csv('decision_tree/data/play_tennis.csv')\n",
    "\n",
    "# Encode lables\n",
    "df_encoded = pd.DataFrame()\n",
    "for col in df.columns:\n",
    "    df_encoded[col] = LabelEncoder().fit_transform(df[col])\n",
    "\n",
    "# Train data\n",
    "X = df_encoded.drop(columns=[\"play\"])\n",
    "Y = df_encoded['play']\n",
    "\n",
    "# Fitting the model\n",
    "dtree_model = DecisionTreeClassifier()\n",
    "dtree_model.fit(X, Y)\n",
    "\n",
    "# Prediction\n",
    "x_unknown =  [1, 0, 1, 0] # expect 1\n",
    "x_unknown = pd.DataFrame([x_unknown], columns=X.columns)\n",
    "y_pred = dtree_model.predict(x_unknown)[0]\n",
    "\n",
    "print(\"Dataset:\"); print(df, \"\\n\")\n",
    "print(\"Encoded:\"); print(df_encoded, \"\\n\")\n",
    "print(\"Unknown:\"); print(x_unknown, \"\\n\")\n",
    "print(\"Prediction:\", y_pred)"
   ]
  }
 ],
 "metadata": {
  "kernelspec": {
   "display_name": "Python 3",
   "language": "python",
   "name": "python3"
  },
  "language_info": {
   "codemirror_mode": {
    "name": "ipython",
    "version": 3
   },
   "file_extension": ".py",
   "mimetype": "text/x-python",
   "name": "python",
   "nbconvert_exporter": "python",
   "pygments_lexer": "ipython3",
   "version": "3.9.7"
  },
  "orig_nbformat": 4
 },
 "nbformat": 4,
 "nbformat_minor": 2
}
