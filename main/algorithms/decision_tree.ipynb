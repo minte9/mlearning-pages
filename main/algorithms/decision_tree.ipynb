{
 "cells": [
  {
   "attachments": {},
   "cell_type": "markdown",
   "metadata": {},
   "source": [
    "### Entropy\n",
    "\n",
    "Entropy is a measure of how `disordered` a collection is.  \n",
    "The `more` impure the feature is, the higher the entropy.  \n",
    "\n",
    "Probability distribution is the `frequency` of the unique values.  \n",
    "It turns out that a `logarithm` of the number of states is perfect for disorder.  \n",
    "\n",
    "$ H(X) = -\\sum_{i=1}^{n} P(x_i) \\log_2 P(x_i) $"
   ]
  },
  {
   "cell_type": "code",
   "execution_count": 26,
   "metadata": {},
   "outputs": [
    {
     "name": "stdout",
     "output_type": "stream",
     "text": [
      "\n",
      " Datasets:\n",
      "A = ['apple' 'orange' 'orange' 'banana' 'banana']\n",
      "B = ['apple' 'apple' 'apple' 'apple' 'apple' 'orange' 'orange']\n",
      "\n",
      " Probability distributions (by hand):\n",
      "[0.2, 0.4, 0.4]\n",
      "[0.7142857142857143, 0.2857142857142857, 0.0]\n",
      "\n",
      " Probability distributions (with pandas):\n",
      "[0.4 0.4 0.2]\n",
      "[0.71428571 0.28571429]\n",
      "\n",
      " Entropies:\n",
      "1.5219280948873621\n",
      "0.863120568566631\n"
     ]
    }
   ],
   "source": [
    "import pandas as pd\n",
    "import numpy as np\n",
    "\n",
    "# Set the initial traning data\n",
    "A = ['apple']*1 + ['orange']*2 + ['banana']*2\n",
    "B = ['apple']*5 + ['orange']*2 + ['banana']*0\n",
    "\n",
    "# Probability distribution (by hand)\n",
    "P1 = [1/5, 2/5, 2/5] \n",
    "P2 = [5/7, 2/7, 0/7]\n",
    "\n",
    "# Probability distribution (normalize)\n",
    "A = pd.Series(A)\n",
    "B = pd.Series(B)\n",
    "P3 = A.value_counts(normalize=True)\n",
    "P4 = B.value_counts(normalize=True)\n",
    "\n",
    "# Entropy (Shannon model)\n",
    "E3 = -1 * np.sum(P3 * np.log2(P3))\n",
    "E4 = -1 * np.sum(P4 * np.log2(P4))\n",
    "assert E3 > E4\n",
    "\n",
    "# Output results\n",
    "print(\"\\n Datasets:\")\n",
    "print(\"A =\", A.values)\n",
    "print(\"B =\", B.values)\n",
    "\n",
    "print(\"\\n Probability distributions (by hand):\")\n",
    "print(P1)\n",
    "print(P2)\n",
    "\n",
    "print(\"\\n Probability distributions (with pandas):\")\n",
    "print(P3.values)\n",
    "print(P4.values)\n",
    "\n",
    "print(\"\\n Entropies:\")\n",
    "print(E3)\n",
    "print(E4)"
   ]
  }
 ],
 "metadata": {
  "kernelspec": {
   "display_name": "Python 3",
   "language": "python",
   "name": "python3"
  },
  "language_info": {
   "codemirror_mode": {
    "name": "ipython",
    "version": 3
   },
   "file_extension": ".py",
   "mimetype": "text/x-python",
   "name": "python",
   "nbconvert_exporter": "python",
   "pygments_lexer": "ipython3",
   "version": "3.9.7"
  },
  "orig_nbformat": 4
 },
 "nbformat": 4,
 "nbformat_minor": 2
}
