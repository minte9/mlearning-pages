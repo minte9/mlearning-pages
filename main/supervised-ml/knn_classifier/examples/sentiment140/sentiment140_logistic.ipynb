{
 "cells": [
  {
   "attachments": {},
   "cell_type": "markdown",
   "metadata": {},
   "source": [
    "### Sentiment140 Dataset / Logistic Regression\n",
    "\n",
    "Load `sentiment140` dataset, assign column names and extract a sample (100.000)"
   ]
  },
  {
   "cell_type": "code",
   "execution_count": 2,
   "metadata": {},
   "outputs": [
    {
     "data": {
      "text/html": [
       "<div>\n",
       "<style scoped>\n",
       "    .dataframe tbody tr th:only-of-type {\n",
       "        vertical-align: middle;\n",
       "    }\n",
       "\n",
       "    .dataframe tbody tr th {\n",
       "        vertical-align: top;\n",
       "    }\n",
       "\n",
       "    .dataframe thead th {\n",
       "        text-align: right;\n",
       "    }\n",
       "</style>\n",
       "<table border=\"1\" class=\"dataframe\">\n",
       "  <thead>\n",
       "    <tr style=\"text-align: right;\">\n",
       "      <th></th>\n",
       "      <th>Sentiment</th>\n",
       "      <th>Text</th>\n",
       "    </tr>\n",
       "  </thead>\n",
       "  <tbody>\n",
       "    <tr>\n",
       "      <th>956867</th>\n",
       "      <td>4</td>\n",
       "      <td>oh would ya look at that!</td>\n",
       "    </tr>\n",
       "    <tr>\n",
       "      <th>108587</th>\n",
       "      <td>0</td>\n",
       "      <td>NOOOOOOOOOOOO PEYTON IS GOING TO DIE D: AND LU...</td>\n",
       "    </tr>\n",
       "    <tr>\n",
       "      <th>996058</th>\n",
       "      <td>4</td>\n",
       "      <td>@indiaknight Oh I didn't know that - I was des...</td>\n",
       "    </tr>\n",
       "    <tr>\n",
       "      <th>1156621</th>\n",
       "      <td>4</td>\n",
       "      <td>Tesbihaaaaaaatt hihi, I'm so cheated the other...</td>\n",
       "    </tr>\n",
       "    <tr>\n",
       "      <th>1356050</th>\n",
       "      <td>4</td>\n",
       "      <td>Just drove to target I feel so accomplished haha</td>\n",
       "    </tr>\n",
       "  </tbody>\n",
       "</table>\n",
       "</div>"
      ],
      "text/plain": [
       "         Sentiment                                               Text\n",
       "956867           4                         oh would ya look at that! \n",
       "108587           0  NOOOOOOOOOOOO PEYTON IS GOING TO DIE D: AND LU...\n",
       "996058           4  @indiaknight Oh I didn't know that - I was des...\n",
       "1156621          4  Tesbihaaaaaaatt hihi, I'm so cheated the other...\n",
       "1356050          4  Just drove to target I feel so accomplished haha "
      ]
     },
     "metadata": {},
     "output_type": "display_data"
    }
   ],
   "source": [
    "import numpy as np\n",
    "import pandas as pd\n",
    "import random\n",
    "\n",
    "# Load dataset\n",
    "df = pd.read_csv('sentiment140.csv', header=None, usecols=[0, 5]) # no header in .csv\n",
    "df.columns = ['Sentiment', 'Text']\n",
    "\n",
    "# Sample\n",
    "sample_size = 100_000\n",
    "sample_indices = random.sample(range(len(df)), sample_size)\n",
    "df = df.iloc[sample_indices]\n",
    "\n",
    "display(df.head())"
   ]
  },
  {
   "attachments": {},
   "cell_type": "markdown",
   "metadata": {},
   "source": [
    "### Preprosessing\n",
    "\n",
    "Convert to lowercase, `remove punctuation`, numbers and whitespaces."
   ]
  },
  {
   "cell_type": "code",
   "execution_count": 3,
   "metadata": {},
   "outputs": [
    {
     "data": {
      "text/html": [
       "<div>\n",
       "<style scoped>\n",
       "    .dataframe tbody tr th:only-of-type {\n",
       "        vertical-align: middle;\n",
       "    }\n",
       "\n",
       "    .dataframe tbody tr th {\n",
       "        vertical-align: top;\n",
       "    }\n",
       "\n",
       "    .dataframe thead th {\n",
       "        text-align: right;\n",
       "    }\n",
       "</style>\n",
       "<table border=\"1\" class=\"dataframe\">\n",
       "  <thead>\n",
       "    <tr style=\"text-align: right;\">\n",
       "      <th></th>\n",
       "      <th>Sentiment</th>\n",
       "      <th>Text</th>\n",
       "    </tr>\n",
       "  </thead>\n",
       "  <tbody>\n",
       "    <tr>\n",
       "      <th>956867</th>\n",
       "      <td>4</td>\n",
       "      <td>oh would ya look at that</td>\n",
       "    </tr>\n",
       "    <tr>\n",
       "      <th>108587</th>\n",
       "      <td>0</td>\n",
       "      <td>noooooooooooo peyton is going to die d and luc...</td>\n",
       "    </tr>\n",
       "    <tr>\n",
       "      <th>996058</th>\n",
       "      <td>4</td>\n",
       "      <td>indiaknight oh i didnt know that  i was desper...</td>\n",
       "    </tr>\n",
       "    <tr>\n",
       "      <th>1156621</th>\n",
       "      <td>4</td>\n",
       "      <td>tesbihaaaaaaatt hihi im so cheated the others ...</td>\n",
       "    </tr>\n",
       "    <tr>\n",
       "      <th>1356050</th>\n",
       "      <td>4</td>\n",
       "      <td>just drove to target i feel so accomplished haha</td>\n",
       "    </tr>\n",
       "  </tbody>\n",
       "</table>\n",
       "</div>"
      ],
      "text/plain": [
       "         Sentiment                                               Text\n",
       "956867           4                           oh would ya look at that\n",
       "108587           0  noooooooooooo peyton is going to die d and luc...\n",
       "996058           4  indiaknight oh i didnt know that  i was desper...\n",
       "1156621          4  tesbihaaaaaaatt hihi im so cheated the others ...\n",
       "1356050          4   just drove to target i feel so accomplished haha"
      ]
     },
     "metadata": {},
     "output_type": "display_data"
    }
   ],
   "source": [
    "df['Text'] = df['Text'].str.lower()                             # Convert text to lowercase\n",
    "df['Text'] = df['Text'].str.replace('[^\\w\\s]', '', regex=True)  # Remove punctuation\n",
    "df['Text'] = df['Text'].str.replace('\\d+', '', regex=True)      # Remove numbers\n",
    "df['Text'] = df['Text'].str.strip()                             # Strip whitespaces\n",
    "display(df.head())"
   ]
  },
  {
   "attachments": {},
   "cell_type": "markdown",
   "metadata": {},
   "source": [
    "### Training\n",
    "Split data into train and test, convert to `numerical features`, fit the model (Logistic Regression).\n",
    "\n"
   ]
  },
  {
   "cell_type": "code",
   "execution_count": 4,
   "metadata": {},
   "outputs": [
    {
     "name": "stdout",
     "output_type": "stream",
     "text": [
      "Sentiment140 samples = 100000\n",
      "Score on Train: 0.84\n",
      "Score on Test: 0.76\n",
      "Report:               precision    recall  f1-score   support\n",
      "\n",
      "           0       0.77      0.75      0.76      9945\n",
      "           4       0.76      0.77      0.77     10055\n",
      "\n",
      "    accuracy                           0.76     20000\n",
      "   macro avg       0.76      0.76      0.76     20000\n",
      "weighted avg       0.76      0.76      0.76     20000\n",
      "\n"
     ]
    }
   ],
   "source": [
    "from sklearn.feature_extraction.text import TfidfVectorizer\n",
    "from sklearn.model_selection import train_test_split\n",
    "from sklearn.linear_model import LogisticRegression\n",
    "from sklearn.metrics import classification_report\n",
    "\n",
    "# Split the dataset into training and testing sets\n",
    "X = df['Text']\n",
    "y = df['Sentiment']\n",
    "X1, X2, y1, y2 = train_test_split(X, y, test_size=0.2, random_state=0)\n",
    "\n",
    "# Convert text into numerical features\n",
    "tfidf_vectorizer = TfidfVectorizer(stop_words='english')\n",
    "X1 = tfidf_vectorizer.fit_transform(X1)\n",
    "X2 = tfidf_vectorizer.transform(X2)\n",
    "\n",
    "# Train the model\n",
    "classifier = LogisticRegression(max_iter=1000)\n",
    "classifier.fit(X1, y1)\n",
    "\n",
    "# Make predictions on the test set\n",
    "y_pred = classifier.predict(X2)\n",
    "\n",
    "print(\"Sentiment140 samples =\", sample_size)\n",
    "print(\"Score on Train:\", classifier.score(X1, y1).round(2))\n",
    "print(\"Score on Test:\", classifier.score(X2, y2).round(2))\n",
    "print(\"Report:\", classification_report(y2, y_pred))"
   ]
  },
  {
   "attachments": {},
   "cell_type": "markdown",
   "metadata": {},
   "source": [
    "### Predictions\n",
    "\n",
    "Predict unknow `reviews`, from reviews.csv file."
   ]
  },
  {
   "cell_type": "code",
   "execution_count": 5,
   "metadata": {},
   "outputs": [
    {
     "name": "stdout",
     "output_type": "stream",
     "text": [
      "Reviews (unknown):\n",
      "Unknown:\t [0 0 4 4 4 4 4 4 4 4 4 4 4 0 0 0 4 4 4 4 4 4 0 0 0 0 0 0 0 0 0 0 4 4 0]\n",
      "Prediction:\t [0 0 4 4 4 0 4 4 4 0 4 4 4 4 0 4 4 4 4 4 4 4 4 4 0 4 0 4 4 0 0 4 4 4 4]\n",
      "Score on Unknown: 0.69\n",
      "Report:               precision    recall  f1-score   support\n",
      "\n",
      "           0       0.78      0.44      0.56        16\n",
      "           4       0.65      0.89      0.76        19\n",
      "\n",
      "    accuracy                           0.69        35\n",
      "   macro avg       0.72      0.67      0.66        35\n",
      "weighted avg       0.71      0.69      0.67        35\n",
      " \n",
      "\n"
     ]
    }
   ],
   "source": [
    "# Load reviews\n",
    "df_reviews = pd.read_csv('reviews_unknown.csv')\n",
    "\n",
    "# Convert the sentiment labels\n",
    "df_reviews['Sentiment'] = df_reviews['Sentiment'].map({'negative': 0, 'positive': 4})\n",
    "\n",
    "X_unknown = df_reviews['Review']\n",
    "y_unknown = df_reviews['Sentiment']\n",
    "\n",
    "# Convert text into numerical features\n",
    "X_unknown = tfidf_vectorizer.transform(X_unknown)\n",
    "\n",
    "# Make predictions on unknown set\n",
    "y_unknown_pred = classifier.predict(X_unknown)\n",
    "score = classifier.score(X_unknown, y_unknown)\n",
    "\n",
    "print(\"Reviews (unknown):\")\n",
    "print(\"Unknown:\\t\", y_unknown.values)\n",
    "print(\"Prediction:\\t\", y_unknown_pred)\n",
    "print(\"Score on Unknown:\", score.round(2))\n",
    "print(\"Report:\", classification_report(y_unknown, y_unknown_pred), \"\\n\")"
   ]
  },
  {
   "attachments": {},
   "cell_type": "markdown",
   "metadata": {},
   "source": [
    "### Random One\n",
    "\n",
    "Prediction for `one random` review."
   ]
  },
  {
   "cell_type": "code",
   "execution_count": 7,
   "metadata": {},
   "outputs": [
    {
     "name": "stdout",
     "output_type": "stream",
     "text": [
      "Review:\n",
      " Had a lot of issues trying to get the coding running. The plot_interactive_tree.py used through out the book used a imread module which no longer exists in its old place, you will get a bitter taste of the 'dependency hell' of python out from these code. For me I had to give up after a couple days of trying.\n",
      "Expected: negative\n",
      "Prediction: negative\n"
     ]
    }
   ],
   "source": [
    "random_index = df_reviews.sample().index.item()\n",
    "\n",
    "X_unknown_one = [df_reviews['Review'][random_index]]\n",
    "y_unknown_one = df_reviews['Sentiment'][random_index]\n",
    "\n",
    "labels = {0: 'negative', 4: 'positive'}\n",
    "\n",
    "print(\"Review:\\n\", X_unknown_one[0])\n",
    "print(\"Expected:\", labels[y_unknown_one])\n",
    "\n",
    "# Convert using vectorizer\n",
    "X_unknown_one = tfidf_vectorizer.transform(X_unknown_one)\n",
    "y_pred_one = classifier.predict(X_unknown_one)\n",
    "\n",
    "print(\"Prediction:\", labels[y_unknown_pred[0]])"
   ]
  }
 ],
 "metadata": {
  "kernelspec": {
   "display_name": "Python 3",
   "language": "python",
   "name": "python3"
  },
  "language_info": {
   "codemirror_mode": {
    "name": "ipython",
    "version": 3
   },
   "file_extension": ".py",
   "mimetype": "text/x-python",
   "name": "python",
   "nbconvert_exporter": "python",
   "pygments_lexer": "ipython3",
   "version": "3.9.7"
  },
  "orig_nbformat": 4
 },
 "nbformat": 4,
 "nbformat_minor": 2
}
