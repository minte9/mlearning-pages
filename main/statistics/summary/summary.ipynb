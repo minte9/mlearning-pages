{
 "cells": [
  {
   "cell_type": "markdown",
   "metadata": {},
   "source": [
    "### Percentile\n",
    "\n",
    "Calculating a percentile in a dataset involves determining the value `below` which a certain percentage  \n",
    "of the data falls. For example, the `50th` percentile (median) is the value below which 50% of the data lies.  "
   ]
  },
  {
   "cell_type": "code",
   "execution_count": 5,
   "metadata": {},
   "outputs": [
    {
     "name": "stdout",
     "output_type": "stream",
     "text": [
      "25th percentile: 3.25\n",
      "50th percentile: 5.5 (median)\n",
      "75th percentile: 7.75\n"
     ]
    }
   ],
   "source": [
    "import numpy as np\n",
    "\n",
    "# Example dataset\n",
    "data = np.array([1, 2, 3, 4, 5, 6, 7, 8, 9, 10])\n",
    "\n",
    "# Calculating percentiles\n",
    "p25 = np.percentile(data, 25)  # 25th percentile\n",
    "p50 = np.percentile(data, 50)  # 50th percentile, also known as the median\n",
    "p75 = np.percentile(data, 75)  # 75th percentile\n",
    "\n",
    "print(\"25th percentile:\", p25)\n",
    "print(\"50th percentile:\", p50, \"(median)\")\n",
    "print(\"75th percentile:\", p75)\n"
   ]
  }
 ],
 "metadata": {
  "kernelspec": {
   "display_name": "Python 3",
   "language": "python",
   "name": "python3"
  },
  "language_info": {
   "codemirror_mode": {
    "name": "ipython",
    "version": 3
   },
   "file_extension": ".py",
   "mimetype": "text/x-python",
   "name": "python",
   "nbconvert_exporter": "python",
   "pygments_lexer": "ipython3",
   "version": "3.9.7"
  }
 },
 "nbformat": 4,
 "nbformat_minor": 2
}
