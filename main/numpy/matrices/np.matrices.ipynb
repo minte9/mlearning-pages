{
 "cells": [
  {
   "attachments": {},
   "cell_type": "markdown",
   "metadata": {},
   "source": [
    "### Numpy Matrices\n",
    "\n",
    "Numerical Python library has support for large, multi-dimensional `arrays and matrices`.  "
   ]
  },
  {
   "attachments": {},
   "cell_type": "markdown",
   "metadata": {},
   "source": [
    "### Vectors\n",
    "\n",
    "A vector is `one-dimensional` array."
   ]
  },
  {
   "cell_type": "code",
   "execution_count": 50,
   "metadata": {},
   "outputs": [
    {
     "name": "stdout",
     "output_type": "stream",
     "text": [
      "Row vector:\n",
      " [1 2 3]\n",
      "Column vector:\n",
      " [[1]\n",
      " [4]\n",
      " [3]]\n"
     ]
    }
   ],
   "source": [
    "import numpy as np\n",
    "\n",
    "a = np.array([1, 2, 3])\n",
    "b = np.array([[1], \n",
    "              [4], \n",
    "              [3]])\n",
    "\n",
    "print(\"Row vector:\\n\", a)\n",
    "print(\"Column vector:\\n\", b)"
   ]
  },
  {
   "attachments": {},
   "cell_type": "markdown",
   "metadata": {},
   "source": [
    "### Matrices\n",
    "\n",
    "Numpy's `main data structure` is the multidimensional array (matrix)."
   ]
  },
  {
   "cell_type": "code",
   "execution_count": 51,
   "metadata": {},
   "outputs": [
    {
     "name": "stdout",
     "output_type": "stream",
     "text": [
      "Matrix:\n",
      " [[ 1  2  3  4]\n",
      " [ 5  6  7  8]\n",
      " [ 9 10 11 12]]\n",
      "Shape: (3, 4)\n",
      "Size: 12\n",
      "Number of array dimension: 2\n"
     ]
    }
   ],
   "source": [
    "# matrix with three rows, four columns\n",
    "\n",
    "A = np.array([\n",
    "    [1, 2, 3, 4],\n",
    "    [5, 6, 7, 8],\n",
    "    [9, 10, 11, 12],\n",
    "])\n",
    "\n",
    "print(\"Matrix:\\n\", A)\n",
    "print(\"Shape:\", A.shape)\n",
    "print(\"Size:\", A.size)\n",
    "print(\"Number of array dimension:\", A.ndim)"
   ]
  },
  {
   "attachments": {},
   "cell_type": "markdown",
   "metadata": {},
   "source": [
    "### Access Elements\n",
    "\n",
    "The data elements in a matrix can be accessed by using [ : ] `slice notation` (up-to OR after)."
   ]
  },
  {
   "cell_type": "code",
   "execution_count": 52,
   "metadata": {},
   "outputs": [
    {
     "name": "stdout",
     "output_type": "stream",
     "text": [
      "a[:] = [1 2 3 4 5 6]\n",
      "a[:3] = [1 2 3]\n",
      "a[0:3] = [1 2 3]\n",
      "a[3:] = [4 5 6]\n",
      "a[-1] = 6\n",
      "a[3:-1] = [4 5]\n"
     ]
    }
   ],
   "source": [
    "a = np.array([1, 2, 3, 4, 5, 6])\n",
    "\n",
    "print(\"a[:] =\", a[:])           # entire range of elements\n",
    "print(\"a[:3] =\", a[:3])         # 0 to 3 (not included)\n",
    "print(\"a[0:3] =\", a[0:3])       # 0 to 3 (not included)\n",
    "print(\"a[3:] =\", a[3:])         # 3 (included) to last\n",
    "print(\"a[-1] =\", a[-1])         # last\n",
    "print(\"a[3:-1] =\", a[3:-1])     # 3 to last (not included)"
   ]
  },
  {
   "attachments": {},
   "cell_type": "markdown",
   "metadata": {},
   "source": [
    "Arrays are `zero-indexed`, first element is 0"
   ]
  },
  {
   "cell_type": "code",
   "execution_count": 53,
   "metadata": {},
   "outputs": [
    {
     "name": "stdout",
     "output_type": "stream",
     "text": [
      "A[1,1] = 6\n",
      "A[:2, :] = [[1 2 3 4]\n",
      " [5 6 7 8]]\n",
      "A[:, 1:2] = [[ 2]\n",
      " [ 6]\n",
      " [10]]\n"
     ]
    }
   ],
   "source": [
    "A = np.array([\n",
    "    [1, 2, 3, 4],\n",
    "    [5, 6, 7, 8],\n",
    "    [9, 10, 11, 12],\n",
    "])\n",
    "\n",
    "print(\"A[1,1] =\", A[1,1])       # second row, second column\n",
    "print(\"A[:2, :] =\", A[:2, :])   # 0 to 2 rows, all columns\n",
    "print(\"A[:, 1:2] =\", A[:, 1:2]) # all rows, second column"
   ]
  },
  {
   "attachments": {},
   "cell_type": "markdown",
   "metadata": {},
   "source": [
    "### Sparse Matrices\n",
    "\n",
    "A sparse matrix stores `only non-zero` elements, for computation savings."
   ]
  },
  {
   "cell_type": "code",
   "execution_count": 54,
   "metadata": {},
   "outputs": [
    {
     "name": "stdout",
     "output_type": "stream",
     "text": [
      "Sparce matrix:\n",
      "  (1, 1)\t1\n",
      "  (2, 0)\t3\n"
     ]
    }
   ],
   "source": [
    "from scipy import sparse\n",
    "\n",
    "A = np.array([\n",
    "    [0, 0, 0, 0, 0, 0, 0, 0, 0, 0], \n",
    "    [0, 1, 0, 0, 0, 0, 0, 0, 0, 0], \n",
    "    [3, 0, 0, 0, 0, 0, 0, 0, 0, 0], \n",
    "])\n",
    "A_sparse = sparse.csr_matrix(A)\n",
    "\n",
    "print(\"Sparce matrix:\"); print(A_sparse)"
   ]
  },
  {
   "attachments": {},
   "cell_type": "markdown",
   "metadata": {},
   "source": [
    "### Vectorization\n",
    "\n",
    "Vectorization is used to `speed up` the Python code without using loop.  \n",
    "Insteed of opertating on a single value at a time, it operates on a `set of value` (vector) at a time."
   ]
  },
  {
   "cell_type": "code",
   "execution_count": 55,
   "metadata": {},
   "outputs": [
    {
     "name": "stdout",
     "output_type": "stream",
     "text": [
      "A vectorized:\n",
      "[[101 102 103]\n",
      " [104 105 106]\n",
      " [107 108 109]]\n"
     ]
    }
   ],
   "source": [
    "A = np.array([\n",
    "    [1, 2, 3],\n",
    "    [4, 5, 6],\n",
    "    [7, 8, 9],\n",
    "])\n",
    "A_vectorized = np.vectorize(lambda x: x + 100)(A)\n",
    "\n",
    "print(\"A vectorized:\"); print(A_vectorized)"
   ]
  },
  {
   "attachments": {},
   "cell_type": "markdown",
   "metadata": {},
   "source": [
    "### Broadcasting\n",
    "\n",
    "Broadcasting allows Numpy to handle arrays of `different shapes` during arithmetic operations."
   ]
  }
 ],
 "metadata": {
  "kernelspec": {
   "display_name": "Python 3",
   "language": "python",
   "name": "python3"
  },
  "language_info": {
   "codemirror_mode": {
    "name": "ipython",
    "version": 3
   },
   "file_extension": ".py",
   "mimetype": "text/x-python",
   "name": "python",
   "nbconvert_exporter": "python",
   "pygments_lexer": "ipython3",
   "version": "3.9.7"
  },
  "orig_nbformat": 4
 },
 "nbformat": 4,
 "nbformat_minor": 2
}
