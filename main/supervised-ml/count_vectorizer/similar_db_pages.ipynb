{
 "cells": [
  {
   "attachments": {},
   "cell_type": "markdown",
   "metadata": {},
   "source": [
    "### Similar Pages / Database\n",
    "\n",
    "By using a `Python` script to handle the data processing and machine learning tasks,  \n",
    "you can leverage Python's powerful libraries and then `update` your database.  \n",
    "\n",
    "Higher values do indicate higher similarity.  \n",
    "Numpy argsort returns the indices that would sort the array in ascending order.  \n",
    "After that, we reverse indices array (higher values first).  "
   ]
  },
  {
   "cell_type": "code",
   "execution_count": 16,
   "metadata": {},
   "outputs": [
    {
     "name": "stderr",
     "output_type": "stream",
     "text": [
      "ic| similarity_matrix: array([[1.        , 0.09132484, 0.15395037, ..., 0.13038836, 0.08898476,\n",
      "                               0.08533536],\n",
      "                              [0.09132484, 1.        , 0.24806947, ..., 0.05701899, 0.04821475,\n",
      "                               0.00850171],\n",
      "                              [0.15395037, 0.24806947, 1.        , ..., 0.04884332, 0.06996956,\n",
      "                               0.05483441],\n",
      "                              ...,\n",
      "                              [0.13038836, 0.05701899, 0.04884332, ..., 1.        , 0.17020715,\n",
      "                               0.09925444],\n",
      "                              [0.08898476, 0.04821475, 0.06996956, ..., 0.17020715, 1.        ,\n",
      "                               0.11750014],\n",
      "                              [0.08533536, 0.00850171, 0.05483441, ..., 0.09925444, 0.11750014,\n",
      "                               1.        ]])\n",
      "ic| np.array(similarity_matrix).shape: (679, 679)\n",
      "ic| i: 0, page_id: 13, similar_pages: [1159, 1369, 970]\n",
      "ic| i: 1, page_id: 14, similar_pages: [66, 1207, 1388]\n",
      "ic| i: 2, page_id: 17, similar_pages: [1207, 1388, 20]\n"
     ]
    }
   ],
   "source": [
    "from sklearn.feature_extraction.text import CountVectorizer\n",
    "from sklearn.metrics.pairwise import cosine_similarity\n",
    "from icecream import ic\n",
    "import numpy as np\n",
    "import pymysql\n",
    "\n",
    "# DB connection\n",
    "conn = pymysql.connect(host='localhost', user='admin', password='password', db='minte9_refresh_v2')\n",
    "\n",
    "# Fetch data\n",
    "with conn.cursor() as c:\n",
    "    c.execute(\"SELECT page_id, content FROM pages\")\n",
    "    data = c.fetchall()\n",
    "\n",
    "\n",
    "# Data processing\n",
    "vectorizer = CountVectorizer()\n",
    "page_texts = [text for _, text in data]\n",
    "X = vectorizer.fit_transform(page_texts)\n",
    "\n",
    "# Calculate similarity\n",
    "similarity_matrix = cosine_similarity(X)\n",
    "\n",
    "ic(similarity_matrix)\n",
    "ic(np.array(similarity_matrix).shape)\n",
    "\n",
    "\n",
    "# Get similar pages\n",
    "with conn.cursor() as cursor:\n",
    "    for i, page in enumerate(data):\n",
    "        page_id = page[0]\n",
    "\n",
    "        # Get top 3 similar pages ids, excluding the page itself\n",
    "        similar_indices = np.argsort(similarity_matrix[i])[-4:-1]\n",
    "        similar_pages = [data[idx][0] for idx in similar_indices]\n",
    "\n",
    "        # Output results (first 3)\n",
    "        ic(i, page_id, similar_pages)\n",
    "        if i >= 2: break\n",
    "\n",
    "        # update_query = \"UPDATE pages SET similar_pages = %s WHERE page_id = %s\"\n",
    "        # cursor.execute(update_query, (','.join(map(str, similar_pages)), page_id))"
   ]
  }
 ],
 "metadata": {
  "kernelspec": {
   "display_name": "Python 3",
   "language": "python",
   "name": "python3"
  },
  "language_info": {
   "codemirror_mode": {
    "name": "ipython",
    "version": 3
   },
   "file_extension": ".py",
   "mimetype": "text/x-python",
   "name": "python",
   "nbconvert_exporter": "python",
   "pygments_lexer": "ipython3",
   "version": "3.9.7"
  },
  "orig_nbformat": 4
 },
 "nbformat": 4,
 "nbformat_minor": 2
}
