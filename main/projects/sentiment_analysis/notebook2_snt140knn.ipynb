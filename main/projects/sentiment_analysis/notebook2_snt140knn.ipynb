{
 "cells": [
  {
   "attachments": {},
   "cell_type": "markdown",
   "metadata": {},
   "source": [
    "## Sentiment140 ✨ KNN Classifier"
   ]
  },
  {
   "attachments": {},
   "cell_type": "markdown",
   "metadata": {},
   "source": [
    "### Dataset\n",
    "\n",
    "Sentiment140 contains `1,600,000 tweets` extracted using the twitter api.  \n",
    "The tweets have been annotated (`0 = negative, 4 = positive`) and they can be used to detect sentiment."
   ]
  },
  {
   "cell_type": "code",
   "execution_count": 86,
   "metadata": {},
   "outputs": [
    {
     "data": {
      "text/html": [
       "<div>\n",
       "<style scoped>\n",
       "    .dataframe tbody tr th:only-of-type {\n",
       "        vertical-align: middle;\n",
       "    }\n",
       "\n",
       "    .dataframe tbody tr th {\n",
       "        vertical-align: top;\n",
       "    }\n",
       "\n",
       "    .dataframe thead th {\n",
       "        text-align: right;\n",
       "    }\n",
       "</style>\n",
       "<table border=\"1\" class=\"dataframe\">\n",
       "  <thead>\n",
       "    <tr style=\"text-align: right;\">\n",
       "      <th></th>\n",
       "      <th>Sentiment</th>\n",
       "      <th>Text</th>\n",
       "    </tr>\n",
       "  </thead>\n",
       "  <tbody>\n",
       "    <tr>\n",
       "      <th>0</th>\n",
       "      <td>0</td>\n",
       "      <td>@switchfoot http://twitpic.com/2y1zl - Awww, t...</td>\n",
       "    </tr>\n",
       "    <tr>\n",
       "      <th>1</th>\n",
       "      <td>0</td>\n",
       "      <td>is upset that he can't update his Facebook by ...</td>\n",
       "    </tr>\n",
       "    <tr>\n",
       "      <th>2</th>\n",
       "      <td>0</td>\n",
       "      <td>@Kenichan I dived many times for the ball. Man...</td>\n",
       "    </tr>\n",
       "    <tr>\n",
       "      <th>3</th>\n",
       "      <td>0</td>\n",
       "      <td>my whole body feels itchy and like its on fire</td>\n",
       "    </tr>\n",
       "    <tr>\n",
       "      <th>4</th>\n",
       "      <td>0</td>\n",
       "      <td>@nationwideclass no, it's not behaving at all....</td>\n",
       "    </tr>\n",
       "  </tbody>\n",
       "</table>\n",
       "</div>"
      ],
      "text/plain": [
       "   Sentiment                                               Text\n",
       "0          0  @switchfoot http://twitpic.com/2y1zl - Awww, t...\n",
       "1          0  is upset that he can't update his Facebook by ...\n",
       "2          0  @Kenichan I dived many times for the ball. Man...\n",
       "3          0    my whole body feels itchy and like its on fire \n",
       "4          0  @nationwideclass no, it's not behaving at all...."
      ]
     },
     "metadata": {},
     "output_type": "display_data"
    },
    {
     "name": "stdout",
     "output_type": "stream",
     "text": [
      "Shape: (1600000, 2)\n"
     ]
    }
   ],
   "source": [
    "import numpy as np\n",
    "import pandas as pd\n",
    "\n",
    "df = pd.read_csv(\"data/sentiment140.csv\", header=None, usecols=[0, 5]) # no header in .csv\n",
    "\n",
    "# Assign column names\n",
    "df.columns = ['Sentiment', 'Text']\n",
    "\n",
    "display(df.head())\n",
    "print(\"Shape:\", df.shape)"
   ]
  },
  {
   "attachments": {},
   "cell_type": "markdown",
   "metadata": {},
   "source": [
    "### Sample\n",
    "\n",
    "Get a `sample` from this huge dataset (otherwise won't work)."
   ]
  },
  {
   "cell_type": "code",
   "execution_count": 87,
   "metadata": {},
   "outputs": [
    {
     "data": {
      "text/html": [
       "<div>\n",
       "<style scoped>\n",
       "    .dataframe tbody tr th:only-of-type {\n",
       "        vertical-align: middle;\n",
       "    }\n",
       "\n",
       "    .dataframe tbody tr th {\n",
       "        vertical-align: top;\n",
       "    }\n",
       "\n",
       "    .dataframe thead th {\n",
       "        text-align: right;\n",
       "    }\n",
       "</style>\n",
       "<table border=\"1\" class=\"dataframe\">\n",
       "  <thead>\n",
       "    <tr style=\"text-align: right;\">\n",
       "      <th></th>\n",
       "      <th>Sentiment</th>\n",
       "      <th>Text</th>\n",
       "    </tr>\n",
       "  </thead>\n",
       "  <tbody>\n",
       "    <tr>\n",
       "      <th>177203</th>\n",
       "      <td>0</td>\n",
       "      <td>We're going to panahra for dinner.  miss you g...</td>\n",
       "    </tr>\n",
       "    <tr>\n",
       "      <th>901481</th>\n",
       "      <td>4</td>\n",
       "      <td>@AndrewHansen1 Thanks Andrew! It hasn't yet be...</td>\n",
       "    </tr>\n",
       "    <tr>\n",
       "      <th>265976</th>\n",
       "      <td>0</td>\n",
       "      <td>@morganmarie i exaggerate, but it will want to...</td>\n",
       "    </tr>\n",
       "    <tr>\n",
       "      <th>1170494</th>\n",
       "      <td>4</td>\n",
       "      <td>@zenworm I see dirty diapers in my future... M...</td>\n",
       "    </tr>\n",
       "    <tr>\n",
       "      <th>745487</th>\n",
       "      <td>0</td>\n",
       "      <td>Bah. My head hurts and I wish I were napping. ...</td>\n",
       "    </tr>\n",
       "  </tbody>\n",
       "</table>\n",
       "</div>"
      ],
      "text/plain": [
       "         Sentiment                                               Text\n",
       "177203           0  We're going to panahra for dinner.  miss you g...\n",
       "901481           4  @AndrewHansen1 Thanks Andrew! It hasn't yet be...\n",
       "265976           0  @morganmarie i exaggerate, but it will want to...\n",
       "1170494          4  @zenworm I see dirty diapers in my future... M...\n",
       "745487           0  Bah. My head hurts and I wish I were napping. ..."
      ]
     },
     "metadata": {},
     "output_type": "display_data"
    },
    {
     "name": "stdout",
     "output_type": "stream",
     "text": [
      "Shape: (10000, 2)\n"
     ]
    }
   ],
   "source": [
    "import random\n",
    "\n",
    "# Sample\n",
    "sample_size = 10_000\n",
    "indices = random.sample(range(len(df)), sample_size)\n",
    "df = df.iloc[indices]\n",
    "\n",
    "display(df.head())\n",
    "print(\"Shape:\", df.shape)"
   ]
  },
  {
   "attachments": {},
   "cell_type": "markdown",
   "metadata": {},
   "source": [
    "### Split data\n",
    "\n",
    "Split the dataset into training and testing `data sets`."
   ]
  },
  {
   "cell_type": "code",
   "execution_count": 88,
   "metadata": {},
   "outputs": [
    {
     "data": {
      "text/plain": [
       "1140200      I GOT A HAIRCUTTT  it's short, but i love it .)\n",
       "1172245    @harryjandu aww a gorgeous little funny wabbit...\n",
       "493718     My mighty mouse is not so mighty, this morning...\n",
       "1314859    @gorillaglo this i know, and yes we do i say s...\n",
       "1476784                     You should text me 210-343-9168 \n",
       "Name: Text, dtype: object"
      ]
     },
     "metadata": {},
     "output_type": "display_data"
    },
    {
     "data": {
      "text/plain": [
       "1140200    4\n",
       "1172245    4\n",
       "493718     0\n",
       "1314859    4\n",
       "1476784    4\n",
       "Name: Sentiment, dtype: int64"
      ]
     },
     "metadata": {},
     "output_type": "display_data"
    }
   ],
   "source": [
    "from sklearn.model_selection import train_test_split\n",
    "\n",
    "X = df['Text']\n",
    "y = df['Sentiment']\n",
    "X1, X2, y1, y2 = train_test_split(X, y, test_size=0.2, random_state=0)\n",
    "\n",
    "display(X1.head())\n",
    "display(y1.head())"
   ]
  },
  {
   "attachments": {},
   "cell_type": "markdown",
   "metadata": {},
   "source": [
    "### Vectorize\n",
    "\n",
    "Convert text into `numerical` features."
   ]
  },
  {
   "cell_type": "code",
   "execution_count": 89,
   "metadata": {},
   "outputs": [
    {
     "name": "stdout",
     "output_type": "stream",
     "text": [
      "[[0. 0. 0. ... 0. 0. 0.]\n",
      " [0. 0. 0. ... 0. 0. 0.]\n",
      " [0. 0. 0. ... 0. 0. 0.]\n",
      " ...\n",
      " [0. 0. 0. ... 0. 0. 0.]\n",
      " [0. 0. 0. ... 0. 0. 0.]\n",
      " [0. 0. 0. ... 0. 0. 0.]]\n"
     ]
    }
   ],
   "source": [
    "from sklearn.feature_extraction.text import TfidfVectorizer\n",
    "\n",
    "tfidf_vectorizer = TfidfVectorizer()\n",
    "X1 = tfidf_vectorizer.fit_transform(X1)\n",
    "X2 = tfidf_vectorizer.transform(X2)\n",
    "\n",
    "print(X1.toarray())"
   ]
  },
  {
   "attachments": {},
   "cell_type": "markdown",
   "metadata": {},
   "source": [
    "### KNN Classifier\n",
    "\n",
    "Train the KNN `classifier` using train (X1) dataset."
   ]
  },
  {
   "cell_type": "code",
   "execution_count": 90,
   "metadata": {},
   "outputs": [
    {
     "name": "stdout",
     "output_type": "stream",
     "text": [
      "Sentiment140 / samples = 10000\n",
      "Score on Train: 0.79\n",
      "Score on Test: 0.68\n",
      "Report:               precision    recall  f1-score   support\n",
      "\n",
      "           0       0.66      0.73      0.70      1018\n",
      "           4       0.69      0.62      0.65       982\n",
      "\n",
      "    accuracy                           0.68      2000\n",
      "   macro avg       0.68      0.67      0.67      2000\n",
      "weighted avg       0.68      0.68      0.67      2000\n",
      "\n"
     ]
    }
   ],
   "source": [
    "from sklearn.neighbors import KNeighborsClassifier\n",
    "from sklearn.metrics import classification_report\n",
    "\n",
    "knn = KNeighborsClassifier()\n",
    "knn.fit(X1, y1)\n",
    "\n",
    "# Make predictions on the test set\n",
    "y_pred = knn.predict(X2)\n",
    "\n",
    "# Reports\n",
    "print(\"Sentiment140 / samples =\", sample_size)\n",
    "print(\"Score on Train:\", knn.score(X1, y1).round(2))\n",
    "print(\"Score on Test:\", knn.score(X2, y2).round(2))\n",
    "print(\"Report:\", classification_report(y2, y_pred))"
   ]
  },
  {
   "attachments": {},
   "cell_type": "markdown",
   "metadata": {},
   "source": [
    "### Predictions\n",
    "\n",
    "Make prediction for `reviews` (from .csv file)."
   ]
  },
  {
   "cell_type": "code",
   "execution_count": 91,
   "metadata": {},
   "outputs": [
    {
     "name": "stdout",
     "output_type": "stream",
     "text": [
      "Reviews (unknown):\n",
      "Unknown:\t [0 0 4 4 4 4 4 4 4 4 4 4 4 0 0 0 4 4 4 4 4 4 0 0 0 0 0 0 0 0 0 0 4 4 0]\n",
      "Prediction:\t [4 0 4 4 0 0 0 0 0 4 4 0 0 0 0 0 4 0 0 0 0 4 4 0 4 0 0 0 4 0 0 4 0 0 0]\n",
      "Score on Reviews: 0.49\n"
     ]
    }
   ],
   "source": [
    "df_reviews = pd.read_csv('data/reviews.csv')\n",
    "df_reviews['Sentiment'] = df_reviews['Sentiment'].map({'negative': 0, 'positive': 4})\n",
    "\n",
    "X_unknown = df_reviews['Review']\n",
    "y_unknown = df_reviews['Sentiment']\n",
    "\n",
    "labels = {0: 'negative', 4: 'positive'}\n",
    "\n",
    "# Convert using vectorizer\n",
    "X_unknown = tfidf_vectorizer.transform(X_unknown)\n",
    "y_pred_unknown = knn.predict(X_unknown)\n",
    "\n",
    "print(\"Reviews (unknown):\")\n",
    "print(\"Unknown:\\t\", y_unknown.values)\n",
    "print(\"Prediction:\\t\", y_pred_unknown)\n",
    "print(\"Score on Reviews:\", knn.score(X_unknown, y_unknown).round(2))"
   ]
  },
  {
   "attachments": {},
   "cell_type": "markdown",
   "metadata": {},
   "source": [
    "### Random One\n",
    "\n",
    "Prediction for `one random` review."
   ]
  },
  {
   "cell_type": "code",
   "execution_count": 95,
   "metadata": {},
   "outputs": [
    {
     "name": "stdout",
     "output_type": "stream",
     "text": [
      "Review:\n",
      " The book is meant to be introductory but dives straight into Python programming with NumPy and sklearn without showing the ropes of the libraries. The introduction to the ML concepts is gentle and well explained but the code is shoved down your throat and you better run to the docs to see what is actually does.\n",
      "Saving point is: if you are teaching ML (like me) and need good well designed examples go for this book; also if you need very visual explanations. Would not recommend the book for a student though.\"\n",
      "Expected: negative\n",
      "Prediction: negative\n"
     ]
    }
   ],
   "source": [
    "random_index = df_reviews.sample().index.item()\n",
    "\n",
    "X_unknown_one = [df_reviews['Review'][random_index]]\n",
    "y_unknown_one = df_reviews['Sentiment'][random_index]\n",
    "\n",
    "labels = {0: 'negative', 4: 'positive'}\n",
    "\n",
    "print(\"Review:\\n\", X_unknown_one[0])\n",
    "print(\"Expected:\", labels[y_unknown_one])\n",
    "\n",
    "# Convert using vectorizer\n",
    "X_unknown_one = tfidf_vectorizer.transform(X_unknown_one)\n",
    "y_pred_one = knn.predict(X_unknown_one)\n",
    "\n",
    "print(\"Prediction:\", labels[y_unknown_pred[0]])"
   ]
  }
 ],
 "metadata": {
  "kernelspec": {
   "display_name": "Python 3",
   "language": "python",
   "name": "python3"
  },
  "language_info": {
   "codemirror_mode": {
    "name": "ipython",
    "version": 3
   },
   "file_extension": ".py",
   "mimetype": "text/x-python",
   "name": "python",
   "nbconvert_exporter": "python",
   "pygments_lexer": "ipython3",
   "version": "3.9.7"
  },
  "orig_nbformat": 4
 },
 "nbformat": 4,
 "nbformat_minor": 2
}
