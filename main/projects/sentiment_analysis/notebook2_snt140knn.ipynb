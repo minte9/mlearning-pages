{
 "cells": [
  {
   "attachments": {},
   "cell_type": "markdown",
   "metadata": {},
   "source": [
    "## Sentiment140 ✨ KNN Classifier"
   ]
  },
  {
   "attachments": {},
   "cell_type": "markdown",
   "metadata": {},
   "source": [
    "### Dataset\n",
    "\n",
    "Sentiment140 contains `1,600,000 tweets` extracted using the twitter api.  \n",
    "The tweets have been annotated (`0 = negative, 4 = positive`) and they can be used to detect sentiment."
   ]
  },
  {
   "cell_type": "code",
   "execution_count": 66,
   "metadata": {},
   "outputs": [
    {
     "data": {
      "text/html": [
       "<div>\n",
       "<style scoped>\n",
       "    .dataframe tbody tr th:only-of-type {\n",
       "        vertical-align: middle;\n",
       "    }\n",
       "\n",
       "    .dataframe tbody tr th {\n",
       "        vertical-align: top;\n",
       "    }\n",
       "\n",
       "    .dataframe thead th {\n",
       "        text-align: right;\n",
       "    }\n",
       "</style>\n",
       "<table border=\"1\" class=\"dataframe\">\n",
       "  <thead>\n",
       "    <tr style=\"text-align: right;\">\n",
       "      <th></th>\n",
       "      <th>Sentiment</th>\n",
       "      <th>Text</th>\n",
       "    </tr>\n",
       "  </thead>\n",
       "  <tbody>\n",
       "    <tr>\n",
       "      <th>0</th>\n",
       "      <td>0</td>\n",
       "      <td>@switchfoot http://twitpic.com/2y1zl - Awww, t...</td>\n",
       "    </tr>\n",
       "    <tr>\n",
       "      <th>1</th>\n",
       "      <td>0</td>\n",
       "      <td>is upset that he can't update his Facebook by ...</td>\n",
       "    </tr>\n",
       "    <tr>\n",
       "      <th>2</th>\n",
       "      <td>0</td>\n",
       "      <td>@Kenichan I dived many times for the ball. Man...</td>\n",
       "    </tr>\n",
       "    <tr>\n",
       "      <th>3</th>\n",
       "      <td>0</td>\n",
       "      <td>my whole body feels itchy and like its on fire</td>\n",
       "    </tr>\n",
       "    <tr>\n",
       "      <th>4</th>\n",
       "      <td>0</td>\n",
       "      <td>@nationwideclass no, it's not behaving at all....</td>\n",
       "    </tr>\n",
       "  </tbody>\n",
       "</table>\n",
       "</div>"
      ],
      "text/plain": [
       "   Sentiment                                               Text\n",
       "0          0  @switchfoot http://twitpic.com/2y1zl - Awww, t...\n",
       "1          0  is upset that he can't update his Facebook by ...\n",
       "2          0  @Kenichan I dived many times for the ball. Man...\n",
       "3          0    my whole body feels itchy and like its on fire \n",
       "4          0  @nationwideclass no, it's not behaving at all...."
      ]
     },
     "metadata": {},
     "output_type": "display_data"
    },
    {
     "name": "stdout",
     "output_type": "stream",
     "text": [
      "Shape: (1600000, 2)\n"
     ]
    }
   ],
   "source": [
    "import numpy as np\n",
    "import pandas as pd\n",
    "\n",
    "df = pd.read_csv(\"data/sentiment140.csv\", header=None, usecols=[0, 5]) # no header in .csv\n",
    "\n",
    "# Assign column names\n",
    "df.columns = ['Sentiment', 'Text']\n",
    "\n",
    "display(df.head())\n",
    "print(\"Shape:\", df.shape)"
   ]
  },
  {
   "attachments": {},
   "cell_type": "markdown",
   "metadata": {},
   "source": [
    "### Sample\n",
    "\n",
    "Get a `sample` from this huge dataset (otherwise won't work)."
   ]
  },
  {
   "cell_type": "code",
   "execution_count": 67,
   "metadata": {},
   "outputs": [
    {
     "data": {
      "text/html": [
       "<div>\n",
       "<style scoped>\n",
       "    .dataframe tbody tr th:only-of-type {\n",
       "        vertical-align: middle;\n",
       "    }\n",
       "\n",
       "    .dataframe tbody tr th {\n",
       "        vertical-align: top;\n",
       "    }\n",
       "\n",
       "    .dataframe thead th {\n",
       "        text-align: right;\n",
       "    }\n",
       "</style>\n",
       "<table border=\"1\" class=\"dataframe\">\n",
       "  <thead>\n",
       "    <tr style=\"text-align: right;\">\n",
       "      <th></th>\n",
       "      <th>Sentiment</th>\n",
       "      <th>Text</th>\n",
       "    </tr>\n",
       "  </thead>\n",
       "  <tbody>\n",
       "    <tr>\n",
       "      <th>980293</th>\n",
       "      <td>4</td>\n",
       "      <td>Rushing to get to the pool  what is this thing...</td>\n",
       "    </tr>\n",
       "    <tr>\n",
       "      <th>1395650</th>\n",
       "      <td>4</td>\n",
       "      <td>@Annette836 oh wow your going twice. lucky you...</td>\n",
       "    </tr>\n",
       "    <tr>\n",
       "      <th>876833</th>\n",
       "      <td>4</td>\n",
       "      <td>I love how Pacquiao doesn't talk trash about o...</td>\n",
       "    </tr>\n",
       "    <tr>\n",
       "      <th>574372</th>\n",
       "      <td>0</td>\n",
       "      <td>Been here for almost an hour, still waiting</td>\n",
       "    </tr>\n",
       "    <tr>\n",
       "      <th>390409</th>\n",
       "      <td>0</td>\n",
       "      <td>day is a bit of a blah dayfor me... it's the 2...</td>\n",
       "    </tr>\n",
       "  </tbody>\n",
       "</table>\n",
       "</div>"
      ],
      "text/plain": [
       "         Sentiment                                               Text\n",
       "980293           4  Rushing to get to the pool  what is this thing...\n",
       "1395650          4  @Annette836 oh wow your going twice. lucky you...\n",
       "876833           4  I love how Pacquiao doesn't talk trash about o...\n",
       "574372           0       Been here for almost an hour, still waiting \n",
       "390409           0  day is a bit of a blah dayfor me... it's the 2..."
      ]
     },
     "metadata": {},
     "output_type": "display_data"
    },
    {
     "name": "stdout",
     "output_type": "stream",
     "text": [
      "Shape: (10000, 2)\n"
     ]
    }
   ],
   "source": [
    "import random\n",
    "\n",
    "# Sample\n",
    "sample_size = 10_000\n",
    "indices = random.sample(range(len(df)), sample_size)\n",
    "df = df.iloc[indices]\n",
    "\n",
    "display(df.head())\n",
    "print(\"Shape:\", df.shape)"
   ]
  },
  {
   "attachments": {},
   "cell_type": "markdown",
   "metadata": {},
   "source": [
    "### Split data\n",
    "\n",
    "Split the dataset into training and testing `data sets`."
   ]
  },
  {
   "cell_type": "code",
   "execution_count": 68,
   "metadata": {},
   "outputs": [
    {
     "data": {
      "text/plain": [
       "1150473    @markhoppus I'm thinking vegas ... Back to bac...\n",
       "764544                  @mskatrina25 YOU!!! YOU M.I.A AGAIN \n",
       "567307      hair is too short now. still sick. have to le...\n",
       "870840     @KeirPoole Everyones saying that but I loved t...\n",
       "244227     @regengirl Glad to hear you're home safe. Big ...\n",
       "Name: Text, dtype: object"
      ]
     },
     "metadata": {},
     "output_type": "display_data"
    },
    {
     "data": {
      "text/plain": [
       "1150473    4\n",
       "764544     0\n",
       "567307     0\n",
       "870840     4\n",
       "244227     0\n",
       "Name: Sentiment, dtype: int64"
      ]
     },
     "metadata": {},
     "output_type": "display_data"
    }
   ],
   "source": [
    "from sklearn.model_selection import train_test_split\n",
    "\n",
    "X = df['Text']\n",
    "y = df['Sentiment']\n",
    "X1, X2, y1, y2 = train_test_split(X, y, test_size=0.2, random_state=0)\n",
    "\n",
    "display(X1.head())\n",
    "display(y1.head())"
   ]
  },
  {
   "attachments": {},
   "cell_type": "markdown",
   "metadata": {},
   "source": [
    "### Vectorize\n",
    "\n",
    "Convert text into `numerical` features."
   ]
  },
  {
   "cell_type": "code",
   "execution_count": 69,
   "metadata": {},
   "outputs": [
    {
     "name": "stdout",
     "output_type": "stream",
     "text": [
      "[[0. 0. 0. ... 0. 0. 0.]\n",
      " [0. 0. 0. ... 0. 0. 0.]\n",
      " [0. 0. 0. ... 0. 0. 0.]\n",
      " ...\n",
      " [0. 0. 0. ... 0. 0. 0.]\n",
      " [0. 0. 0. ... 0. 0. 0.]\n",
      " [0. 0. 0. ... 0. 0. 0.]]\n"
     ]
    }
   ],
   "source": [
    "from sklearn.feature_extraction.text import TfidfVectorizer\n",
    "\n",
    "v = TfidfVectorizer()\n",
    "X1 = v.fit_transform(X1)\n",
    "X2 = v.transform(X2)\n",
    "\n",
    "print(X1.toarray())"
   ]
  },
  {
   "attachments": {},
   "cell_type": "markdown",
   "metadata": {},
   "source": [
    "### KNN Classifier\n",
    "\n",
    "Train the KNN `classifier` using train (X1) dataset."
   ]
  },
  {
   "cell_type": "code",
   "execution_count": 70,
   "metadata": {},
   "outputs": [
    {
     "name": "stdout",
     "output_type": "stream",
     "text": [
      "Sentiment140 / samples = 10000\n",
      "Score on Train: 0.79\n",
      "Score on Test: 0.67\n",
      "Report:               precision    recall  f1-score   support\n",
      "\n",
      "           0       0.65      0.72      0.68       982\n",
      "           4       0.70      0.63      0.66      1018\n",
      "\n",
      "    accuracy                           0.67      2000\n",
      "   macro avg       0.68      0.67      0.67      2000\n",
      "weighted avg       0.68      0.67      0.67      2000\n",
      "\n"
     ]
    }
   ],
   "source": [
    "from sklearn.neighbors import KNeighborsClassifier\n",
    "from sklearn.metrics import classification_report\n",
    "\n",
    "knn = KNeighborsClassifier()\n",
    "knn.fit(X1, y1)\n",
    "\n",
    "# Make predictions on the test set\n",
    "y_pred = knn.predict(X2)\n",
    "\n",
    "# Reports\n",
    "print(\"Sentiment140 / samples =\", sample_size)\n",
    "print(\"Score on Train:\", knn.score(X1, y1).round(2))\n",
    "print(\"Score on Test:\", knn.score(X2, y2).round(2))\n",
    "print(\"Report:\", classification_report(y2, y_pred))"
   ]
  }
 ],
 "metadata": {
  "kernelspec": {
   "display_name": "Python 3",
   "language": "python",
   "name": "python3"
  },
  "language_info": {
   "codemirror_mode": {
    "name": "ipython",
    "version": 3
   },
   "file_extension": ".py",
   "mimetype": "text/x-python",
   "name": "python",
   "nbconvert_exporter": "python",
   "pygments_lexer": "ipython3",
   "version": "3.9.7"
  },
  "orig_nbformat": 4
 },
 "nbformat": 4,
 "nbformat_minor": 2
}
