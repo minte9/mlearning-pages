{
 "cells": [
  {
   "attachments": {},
   "cell_type": "markdown",
   "metadata": {},
   "source": [
    "### KNN Classifier\n",
    "\n",
    "We provide `training` dataset points (features) and label (target).  \n",
    "Next, we train the model using KNN classifier with `k=3` (nearest neighbors).  \n",
    "Finally, we are able now to `predict` the label for a new (unknown) data point.   "
   ]
  },
  {
   "cell_type": "code",
   "execution_count": 11,
   "metadata": {},
   "outputs": [
    {
     "name": "stderr",
     "output_type": "stream",
     "text": [
      "ic| x_unknown: [1, 2]\n",
      "ic| y_pred: array([0])\n"
     ]
    }
   ],
   "source": [
    "from sklearn.neighbors import KNeighborsClassifier\n",
    "from icecream import ic\n",
    "\n",
    "# Training dataset\n",
    "X = [[0,0], \n",
    "     [1,1], \n",
    "     [2,2], \n",
    "     [3,3]]    \n",
    "y = [0, 1, 0, 1]\n",
    "\n",
    "# Train the model\n",
    "knn = KNeighborsClassifier(n_neighbors=3)\n",
    "knn.fit(X, y)\n",
    "\n",
    "# Make predictions for unknown\n",
    "x_unknown = [1,2]        \n",
    "y_pred = knn.predict([x_unknown])  \n",
    "\n",
    "ic(x_unknown)\n",
    "ic(y_pred);"
   ]
  },
  {
   "attachments": {},
   "cell_type": "markdown",
   "metadata": {},
   "source": [
    "### Data Frame\n",
    "\n",
    "Fruts dataset contains heights, `widths` and labels (fruit name).  \n",
    "We use pandas library to transform a `json` dataset into a DataFrame."
   ]
  },
  {
   "cell_type": "code",
   "execution_count": 10,
   "metadata": {},
   "outputs": [
    {
     "name": "stderr",
     "output_type": "stream",
     "text": [
      "ic| df:     height  width     fruit\n",
      "        15    3.93   6.12     Apple\n",
      "        9     7.11   7.02     Apple\n",
      "        5     7.62   7.51     Apple\n",
      "        14    7.86   7.60     Apple\n",
      "        1     7.09   7.69     Apple\n",
      "        13    7.44   7.89     Apple\n",
      "        11    7.29   8.38     Apple\n",
      "        17    5.50   4.50     Lemon\n",
      "        19    8.69   5.82     Lemon\n",
      "        4     7.95   5.90     Lemon\n",
      "        8     7.50   5.99     Lemon\n",
      "        18    8.10   6.15     Lemon\n",
      "        12    8.49   6.52     Lemon\n",
      "        3     9.21   7.20     Lemon\n",
      "        2    10.48   7.32     Lemon\n",
      "        6     7.95   5.32  Mandarin\n",
      "        10    4.15   5.60  Mandarin\n",
      "        0     3.91   5.76  Mandarin\n",
      "        16    4.40   5.90  Mandarin\n",
      "        7     4.69   6.19  Mandarin\n",
      "ic| unknown_item: [9, 3], prediction: array(['Lemon'], dtype=object)\n",
      "ic| unknown_items: [[9, 3], [4, 5], [2, 5], [8, 9], [5, 7]]\n",
      "    predictions: array(['Lemon', 'Mandarin', 'Mandarin', 'Apple', 'Mandarin'], dtype=object)\n"
     ]
    }
   ],
   "source": [
    "from sklearn.neighbors import KNeighborsClassifier\n",
    "import pandas as pd\n",
    "from icecream import ic\n",
    "\n",
    "# Training dataset\n",
    "data = {\n",
    "\n",
    "  'height': [\n",
    "    3.91, 7.09, 10.48, 9.21, 7.95, 7.62, 7.95, 4.69, 7.50, 7.11, \n",
    "    4.15, 7.29, 8.49, 7.44, 7.86, 3.93, 4.40, 5.5, 8.10, 8.69\n",
    "  ], \n",
    "\n",
    "  'width': [\n",
    "     5.76, 7.69, 7.32, 7.20, 5.90, 7.51, 5.32, 6.19, 5.99, 7.02, \n",
    "     5.60, 8.38, 6.52, 7.89, 7.60, 6.12, 5.90, 4.5, 6.15, 5.82\n",
    "  ],\n",
    "  \n",
    "  'fruit': [\n",
    "    'Mandarin', 'Apple', 'Lemon', 'Lemon', 'Lemon', 'Apple', 'Mandarin', \n",
    "    'Mandarin', 'Lemon', 'Apple', 'Mandarin', 'Apple', 'Lemon', 'Apple', \n",
    "    'Apple', 'Apple', 'Mandarin', 'Lemon', 'Lemon', 'Lemon'\n",
    "  ]\n",
    "} \n",
    "# Transform dataset\n",
    "df = pd.DataFrame(data) \n",
    "df = df.sort_values(by=['fruit', 'width', 'height'])\n",
    "\n",
    "X = df[['height', 'width']].values\n",
    "y = df.fruit.values\n",
    "\n",
    "# Train the model\n",
    "knn = KNeighborsClassifier(n_neighbors=3) \n",
    "knn.fit(X, y)\n",
    "\n",
    "# Make predictions\n",
    "unknown_item  = [9, 3]\n",
    "unknown_items = [[9, 3], [4, 5], [2, 5], [8, 9], [5, 7]]\n",
    "\n",
    "prediction  = knn.predict([unknown_item])\n",
    "predictions = knn.predict(unknown_items)\n",
    "\n",
    "ic(df)\n",
    "ic(unknown_item, prediction)\n",
    "ic(unknown_items, predictions);"
   ]
  }
 ],
 "metadata": {
  "kernelspec": {
   "display_name": "Python 3",
   "language": "python",
   "name": "python3"
  },
  "language_info": {
   "codemirror_mode": {
    "name": "ipython",
    "version": 3
   },
   "file_extension": ".py",
   "mimetype": "text/x-python",
   "name": "python",
   "nbconvert_exporter": "python",
   "pygments_lexer": "ipython3",
   "version": "3.9.7"
  },
  "orig_nbformat": 4
 },
 "nbformat": 4,
 "nbformat_minor": 2
}
