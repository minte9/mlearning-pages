{
 "cells": [
  {
   "cell_type": "markdown",
   "metadata": {},
   "source": [
    "### Probability\n",
    "  \n",
    "Probability does not tell us `exactly` what will happen, it is just a guide.   \n",
    "When a coin is tossed, probability says that heads have a 50% chance, so we can `expect` 50 Heads.   \n",
    "When we actually try it we might get 48, or 55 heads ... or `anything` really.  \n",
    "But in `most` cases it will be a number near 50.  \n",
    "\n",
    "$ P(A) = \\frac{\\text{Number of favorable outcomes}}{\\text{Total number of possible outcomes}} $  "
   ]
  },
  {
   "cell_type": "code",
   "execution_count": 31,
   "metadata": {},
   "outputs": [
    {
     "name": "stdout",
     "output_type": "stream",
     "text": [
      "Tossing a coin 100 times, repeated 10 times:\n",
      "Experiment 1: Number of heads: 46\n",
      "Experiment 2: Number of heads: 51\n",
      "Experiment 3: Number of heads: 53\n",
      "Experiment 4: Number of heads: 54\n",
      "Experiment 5: Number of heads: 54\n",
      "Experiment 6: Number of heads: 39\n",
      "Experiment 7: Number of heads: 61\n",
      "Experiment 8: Number of heads: 65\n",
      "Experiment 9: Number of heads: 51\n",
      "Experiment 10: Number of heads: 53\n",
      "Outcome    Probability\n",
      "H          0.50\n",
      "T          0.50\n"
     ]
    }
   ],
   "source": [
    "import random\n",
    "\n",
    "# Function to simulate coin toss\n",
    "def toss_coin():\n",
    "    heads_count = 0\n",
    "    for _ in range(100):\n",
    "        if random.choice(['H', 'T']) == 'H':\n",
    "            heads_count += 1\n",
    "    return heads_count\n",
    "\n",
    "print(f\"Tossing a coin 100 times, repeated 10 times:\")\n",
    "for i in range(10):\n",
    "    heads = toss_coin()\n",
    "    print(f\"Experiment {i+1}: Number of heads: {heads}\")\n",
    "\n",
    "print(f\"{'Outcome':<10} Probability\")\n",
    "D = {'H': 1/2, 'T': 1/2}\n",
    "for outcome, p in D.items():\n",
    "    print(f\"{outcome:<10} {p:.2f}\")"
   ]
  },
  {
   "cell_type": "markdown",
   "metadata": {},
   "source": [
    "### Probability Distribution\n",
    "\n",
    "Random `variables` are characteristics that you can observe, but you don't control them.  \n",
    "Probability distribution is a `function` that describes the probabilities for all outcomes of random variable.   "
   ]
  },
  {
   "cell_type": "code",
   "execution_count": 34,
   "metadata": {},
   "outputs": [
    {
     "name": "stdout",
     "output_type": "stream",
     "text": [
      "Outcome    Probability\n",
      "1          0.17\n",
      "2          0.17\n",
      "3          0.17\n",
      "4          0.17\n",
      "5          0.17\n",
      "6          0.17\n",
      "You rolled a 4!\n"
     ]
    }
   ],
   "source": [
    "from random import choices\n",
    "\n",
    "# Define the probability distribution of a six-sided die\n",
    "D = {1: 1/6, 2: 1/6, 3: 1/6, 4: 1/6, 5: 1/6, 6: 1/6}\n",
    "\n",
    "print(f\"{'Outcome':<10} Probability\")\n",
    "for outcome, p in D.items():\n",
    "    print(f\"{outcome:<10} {p:.2f}\")\n",
    "\n",
    "# Simulate rolling the die\n",
    "outcomes, probabilities = zip(*D.items())\n",
    "outcome = choices(outcomes)[0]\n",
    "print(f\"You rolled a {outcome}!\")"
   ]
  },
  {
   "cell_type": "markdown",
   "metadata": {},
   "source": [
    "### Histograms\n",
    "\n",
    "Probability distributions are similar to histograms, except that the `focus` is on probabilities of the outcomes.  \n",
    "In histograms we are displaying the `properties` of distributions (shape, center, spread).   "
   ]
  },
  {
   "cell_type": "code",
   "execution_count": 58,
   "metadata": {},
   "outputs": [
    {
     "data": {
      "image/png": "[encoded data removed]",
      "text/plain": [
       "<Figure size 640x480 with 1 Axes>"
      ]
     },
     "metadata": {},
     "output_type": "display_data"
    }
   ],
   "source": [
    "import matplotlib.pyplot as plt\n",
    "from random import choices\n",
    "\n",
    "# Define the probability distribution of a six-sided die\n",
    "D = {1: 1/6, 2: 1/6, 3: 1/6, 4: 1/6, 5: 1/6, 6: 1/6}\n",
    "\n",
    "# Simulate rolling the die 1000 times\n",
    "num_rolls = 1000\n",
    "rolls = choices(list(D.keys()), weights=D.values(), k=num_rolls)\n",
    "\n",
    "# Create a histogram\n",
    "plt.hist(rolls, bins=range(1, 8), align='left', rwidth=0.8)\n",
    "plt.xlabel('Die Outcome')\n",
    "plt.ylabel('Frequency')\n",
    "plt.title('Histogram of Die Rolls')\n",
    "plt.xticks(range(1, 7))\n",
    "plt.show()\n"
   ]
  },
  {
   "cell_type": "markdown",
   "metadata": {},
   "source": [
    "### Discrete Distributions\n",
    "\n",
    "Discrete probability functions have only `distinct` values.  \n",
    "For `example`, coin tosses and counts of events are discrete functions, there are no in-between values.  "
   ]
  },
  {
   "cell_type": "code",
   "execution_count": 41,
   "metadata": {},
   "outputs": [
    {
     "name": "stdout",
     "output_type": "stream",
     "text": [
      "Outcome    Probability\n",
      "0 cars     0.10\n",
      "1 car      0.40\n",
      "2 cars     0.30\n",
      "3+ cars    0.20\n"
     ]
    }
   ],
   "source": [
    "# Household Car Ownership / Hypothetical probabilities\n",
    "counts = ['0 cars', '1 car', '2 cars', '3+ cars']\n",
    "probabilities = [0.1, 0.4, 0.3, 0.2]  \n",
    "\n",
    "# Output the table\n",
    "print(f\"{'Outcome':<10} Probability\")\n",
    "for count, p in zip(counts, probabilities):\n",
    "    print(f\"{count:<10} {p:.2f}\")"
   ]
  },
  {
   "cell_type": "markdown",
   "metadata": {},
   "source": [
    "### Binominal Distributions\n",
    "\n",
    "Binary distributions occur when you can place an observation into only `two` categories.  \n",
    "Assume we're playing a `game` where rolling a 6 is very advantageous.  \n",
    "In this scenario, rolling a 6 is `binary` because an observation can be either 6 or not a 6.      "
   ]
  },
  {
   "cell_type": "code",
   "execution_count": 61,
   "metadata": {},
   "outputs": [
    {
     "data": {
      "image/png": "[encoded data removed]",
      "text/plain": [
       "<Figure size 640x480 with 1 Axes>"
      ]
     },
     "metadata": {},
     "output_type": "display_data"
    },
    {
     "name": "stdout",
     "output_type": "stream",
     "text": [
      "\n",
      "The highest probability is (0.32) corresponding with 1 time(s) 6s.\n",
      "There is a 32.30% chance of rolling a 6 exactly 1 time(s) in 10 rolls.\n",
      "There is a 16.14% chance of rolling no 6s.\n",
      "There is a 0.22% chance of rolling 7 time(s) 6s.\n",
      "\n"
     ]
    }
   ],
   "source": [
    "import numpy as np\n",
    "import matplotlib.pyplot as plt\n",
    "from scipy.stats import binom\n",
    "\n",
    "p = 0.1667  # Probability of success (rolling a 6) = 1/6\n",
    "n = 10      # Number of trials (rolling a die 10 times)\n",
    "\n",
    "# Probability of getting each possible number of 6's (from 0 to 10)\n",
    "x = np.arange(0, n+1) # Possible numbers of successes (0 through 10)\n",
    "probabilities = binom.pmf(x, n, p)  # pmf is the probability mass function for the binomial distribution\n",
    "\n",
    "# Plotting the binomial distribution\n",
    "plt.bar(x, probabilities, color='blue')\n",
    "plt.title('Binomial Distribution - Probability of Rolling a 6')\n",
    "plt.xlabel('Number of 6s Rolled')\n",
    "plt.ylabel('Probability')\n",
    "plt.xticks(x)\n",
    "plt.show()\n",
    "\n",
    "# Display the binomial distribution\n",
    "print(f\"\"\"\n",
    "The highest probability is ({max(probabilities):.2f}) corresponding with {np.argmax(probabilities)} time(s) 6s.\n",
    "There is a {probabilities[1]:.2%} chance of rolling a 6 exactly {np.argmax(probabilities)} time(s) in 10 rolls.\n",
    "There is a {probabilities[0]:.2%} chance of rolling no 6s.\n",
    "There is a {probabilities[6]:.2%} chance of rolling 7 time(s) 6s.\n",
    "\"\"\")"
   ]
  },
  {
   "cell_type": "markdown",
   "metadata": {},
   "source": [
    "### References\n",
    "\n",
    "https://www.amazon.com/Introduction-Statistics-Intuitive-Analyzing-Discoveries/dp/1735431109\n",
    "https://www.mathsisfun.com/data/probability.html"
   ]
  }
 ],
 "metadata": {
  "kernelspec": {
   "display_name": "Python 3",
   "language": "python",
   "name": "python3"
  },
  "language_info": {
   "codemirror_mode": {
    "name": "ipython",
    "version": 3
   },
   "file_extension": ".py",
   "mimetype": "text/x-python",
   "name": "python",
   "nbconvert_exporter": "python",
   "pygments_lexer": "ipython3",
   "version": "3.9.7"
  }
 },
 "nbformat": 4,
 "nbformat_minor": 2
}
