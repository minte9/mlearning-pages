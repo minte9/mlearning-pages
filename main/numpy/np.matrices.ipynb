{
 "cells": [
  {
   "attachments": {},
   "cell_type": "markdown",
   "metadata": {},
   "source": [
    "### Numpy Matrices\n",
    "\n",
    "Numerical Python library has support for large, multi-dimensional `arrays and matrices`. "
   ]
  },
  {
   "attachments": {},
   "cell_type": "markdown",
   "metadata": {},
   "source": [
    "### Vectors\n",
    "\n",
    "A vector is `one-dimensional` array."
   ]
  },
  {
   "cell_type": "code",
   "execution_count": null,
   "metadata": {},
   "outputs": [],
   "source": [
    "import numpy as np\n",
    "\n",
    "a = np.array([1, 2, 3])\n",
    "b = np.array([[1], \n",
    "              [4], \n",
    "              [3]])\n",
    "\n",
    "print(\"Row vector:\\n\", a)\n",
    "print(\"Column vector:\\n\", b)"
   ]
  },
  {
   "attachments": {},
   "cell_type": "markdown",
   "metadata": {},
   "source": [
    "### Matrices\n",
    "\n",
    "Numpy's `main data structure` is the multidimensional array (matrix)."
   ]
  },
  {
   "cell_type": "code",
   "execution_count": null,
   "metadata": {},
   "outputs": [],
   "source": [
    "# matrix with three rows, four columns\n",
    "\n",
    "A = np.array([\n",
    "    [1, 2, 3, 4],\n",
    "    [5, 6, 7, 8],\n",
    "    [9, 10, 11, 12],\n",
    "])\n",
    "\n",
    "print(\"Matrix:\\n\", A)\n",
    "print(\"Shape:\", A.shape)\n",
    "print(\"Size:\", A.size)\n",
    "print(\"Number of array dimension:\", A.ndim)"
   ]
  },
  {
   "attachments": {},
   "cell_type": "markdown",
   "metadata": {},
   "source": [
    "### Access Elements\n",
    "\n",
    "The data elements in a matrix can be accessed by using [ : ] `slice notation` (up-to OR after)."
   ]
  },
  {
   "cell_type": "code",
   "execution_count": null,
   "metadata": {},
   "outputs": [],
   "source": [
    "a = np.array([1, 2, 3, 4, 5, 6])\n",
    "\n",
    "print(\"a[:] =\", a[:])           # entire range of elements\n",
    "print(\"a[:3] =\", a[:3])         # 0 to 3 (not included)\n",
    "print(\"a[0:3] =\", a[0:3])       # 0 to 3 (not included)\n",
    "print(\"a[3:] =\", a[3:])         # 3 (included) to last\n",
    "print(\"a[-1] =\", a[-1])         # last\n",
    "print(\"a[3:-1] =\", a[3:-1])     # 3 to last (not included)"
   ]
  },
  {
   "attachments": {},
   "cell_type": "markdown",
   "metadata": {},
   "source": [
    "Arrays are `zero-indexed`, first element is 0"
   ]
  },
  {
   "cell_type": "code",
   "execution_count": null,
   "metadata": {},
   "outputs": [],
   "source": [
    "A = np.array([\n",
    "    [1, 2, 3, 4],\n",
    "    [5, 6, 7, 8],\n",
    "    [9, 10, 11, 12],\n",
    "])\n",
    "\n",
    "print(\"A[1,1] =\", A[1,1], \"\\n\")       # second row, second column\n",
    "print(\"A[:2, :] =\"); print(A[:2, :], \"\\n\")   # 0 to 2 rows, all columns\n",
    "print(\"A[:, 1:2] =\"); print(A[:, 1:2]) # all rows, second column"
   ]
  },
  {
   "attachments": {},
   "cell_type": "markdown",
   "metadata": {},
   "source": [
    "### Sparse Matrices\n",
    "\n",
    "A sparse matrix stores `only non-zero` elements, for computation savings."
   ]
  },
  {
   "cell_type": "code",
   "execution_count": null,
   "metadata": {},
   "outputs": [],
   "source": [
    "from scipy import sparse\n",
    "\n",
    "A = np.array([\n",
    "    [0, 0, 0, 0, 0, 0, 0, 0, 0, 0], \n",
    "    [0, 1, 0, 0, 0, 0, 0, 0, 0, 0], \n",
    "    [3, 0, 0, 0, 0, 0, 0, 0, 0, 0], \n",
    "])\n",
    "B = sparse.csr_matrix(A)\n",
    "print(B)"
   ]
  },
  {
   "attachments": {},
   "cell_type": "markdown",
   "metadata": {},
   "source": [
    "### Vectorization\n",
    "\n",
    "Vectorization is used to `speed up` the Python code without using loop.  \n",
    "Insteed of opertating on a single value at a time, it operates on a `set of value` (vector) at a time."
   ]
  },
  {
   "cell_type": "code",
   "execution_count": null,
   "metadata": {},
   "outputs": [],
   "source": [
    "A = np.array([\n",
    "    [1, 2, 3],\n",
    "    [4, 5, 6],\n",
    "    [7, 8, 9],\n",
    "])\n",
    "B = np.vectorize(lambda x: x + 100)(A)\n",
    "print(B)"
   ]
  },
  {
   "attachments": {},
   "cell_type": "markdown",
   "metadata": {},
   "source": [
    "### Broadcasting\n",
    "\n",
    "Broascasting allows Numpy to handle arrays of `different shapes` during arithmetic operations."
   ]
  },
  {
   "cell_type": "code",
   "execution_count": null,
   "metadata": {},
   "outputs": [],
   "source": [
    "A = np.array([\n",
    "    [1, 2, 3],\n",
    "    [4, 5, 6],\n",
    "    [7, 8, 9],\n",
    "])\n",
    "B = A + 100\n",
    "print(B)"
   ]
  },
  {
   "attachments": {},
   "cell_type": "markdown",
   "metadata": {},
   "source": [
    "### Count Vectorizer\n",
    "\n",
    "We can represent `texts as vectors` and compute similarity. [Scikit Count Vectorizer](https://medium.com/@sumanadhikari/building-a-movie-recommendation-engine-using-scikit-learn-8dbb11c5aa4b)"
   ]
  },
  {
   "cell_type": "code",
   "execution_count": null,
   "metadata": {},
   "outputs": [],
   "source": [
    "from sklearn.feature_extraction.text import CountVectorizer\n",
    "from sklearn.metrics.pairwise import cosine_similarity\n",
    "\n",
    "A = ['London Paris London', 'Paris Paris London']\n",
    "\n",
    "cv = CountVectorizer()\n",
    "A = cv.fit_transform(A)\n",
    "similarity_scores = cosine_similarity(A)\n",
    "\n",
    "print(\"A vectorized =\"); print(A)\n",
    "print(\"A toarray() =\"); print(A.toarray())\n",
    "print(\"Similarity scores =\"); print(similarity_scores)"
   ]
  },
  {
   "attachments": {},
   "cell_type": "markdown",
   "metadata": {},
   "source": [
    "### Min, Max, Average\n",
    "\n",
    "We can apply operations `along the axes` (rows or columns).\n"
   ]
  },
  {
   "cell_type": "code",
   "execution_count": null,
   "metadata": {},
   "outputs": [],
   "source": [
    "A = np.array([\n",
    "    [1, 2, 3],\n",
    "    [4, 5, 6],\n",
    "    [7, 8, 9],\n",
    "])\n",
    "\n",
    "max_value = np.max(A)\n",
    "min_value = np.min(A)\n",
    "avg_value = np.mean(A)\n",
    "\n",
    "print(\"max(A) =\", max_value)\n",
    "print(\"min(A) =\", min_value)\n",
    "print(\"mean(A) =\", avg_value) \n",
    "\n",
    "max_in_each_row = np.max(A, axis=1)\n",
    "max_in_each_col = np.max(A, axis=0)\n",
    "\n",
    "print(\"Max in each row =\", max_in_each_row)\n",
    "print(\"Max in each col =\", max_in_each_col)"
   ]
  },
  {
   "attachments": {},
   "cell_type": "markdown",
   "metadata": {},
   "source": [
    "### Reshape\n",
    "\n",
    "Reshape `maintain the data` but as different numbers of rows and columns."
   ]
  },
  {
   "cell_type": "code",
   "execution_count": null,
   "metadata": {},
   "outputs": [],
   "source": [
    "A = np.array([\n",
    "    [1, 2, 3],\n",
    "    [4, 5, 6],\n",
    "    [7, 8, 9],\n",
    "    [10, 11, 12],\n",
    "])\n",
    "\n",
    "B = A.reshape(2, 6)     # same dimension as original matrix\n",
    "C = A.reshape(1, -1)    # -1 means 'as many as needed'\n",
    "D = A.flatten()         # transform the matrix in vector (one-dimensional array)\n",
    "\n",
    "print(\"reshape(2, 6) = \"); print(B)\n",
    "print(\"reshape(1, -1) =\"); print(C)\n",
    "print(\"flatten =\"); print(D)"
   ]
  }
 ],
 "metadata": {
  "kernelspec": {
   "display_name": "Python 3",
   "language": "python",
   "name": "python3"
  },
  "language_info": {
   "codemirror_mode": {
    "name": "ipython",
    "version": 3
   },
   "file_extension": ".py",
   "mimetype": "text/x-python",
   "name": "python",
   "nbconvert_exporter": "python",
   "pygments_lexer": "ipython3",
   "version": "3.9.7"
  },
  "orig_nbformat": 4
 },
 "nbformat": 4,
 "nbformat_minor": 2
}
