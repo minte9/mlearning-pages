{
 "cells": [
  {
   "attachments": {},
   "cell_type": "markdown",
   "metadata": {},
   "source": [
    "### Entropy\n",
    "\n",
    "Entropy is a measure of how `disordered` a collection is.  \n",
    "The `more` impure the feature is, the higher the entropy.  \n",
    "\n",
    "Probability distribution is the `frequency` of the unique values.  \n",
    "It turns out that a `logarithm` of the number of states is perfect for disorder.  \n",
    "\n",
    "$ H(X) = -\\sum_{i=1}^{n} P(x_i) \\log_2 P(x_i) $"
   ]
  },
  {
   "cell_type": "code",
   "execution_count": 6,
   "metadata": {},
   "outputs": [
    {
     "name": "stdout",
     "output_type": "stream",
     "text": [
      "Datasets:\n",
      "A = ['apple' 'orange' 'orange' 'banana' 'banana']\n",
      "B = ['apple' 'apple' 'apple' 'apple' 'apple' 'orange' 'orange'] \n",
      "\n",
      "Probability distributions (by hand):\n"
     ]
    },
    {
     "ename": "AttributeError",
     "evalue": "'list' object has no attribute 'values'",
     "output_type": "error",
     "traceback": [
      "\u001b[0;31m---------------------------------------------------------------------------\u001b[0m",
      "\u001b[0;31mAttributeError\u001b[0m                            Traceback (most recent call last)",
      "Cell \u001b[0;32mIn[6], line 29\u001b[0m\n\u001b[1;32m     26\u001b[0m \u001b[39mprint\u001b[39m(\u001b[39m\"\u001b[39m\u001b[39mB =\u001b[39m\u001b[39m\"\u001b[39m, B\u001b[39m.\u001b[39mvalues, \u001b[39m\"\u001b[39m\u001b[39m\\n\u001b[39;00m\u001b[39m\"\u001b[39m)\n\u001b[1;32m     28\u001b[0m \u001b[39mprint\u001b[39m(\u001b[39m\"\u001b[39m\u001b[39mProbability distributions (by hand):\u001b[39m\u001b[39m\"\u001b[39m)\n\u001b[0;32m---> 29\u001b[0m \u001b[39mprint\u001b[39m(P1\u001b[39m.\u001b[39;49mvalues)\n\u001b[1;32m     30\u001b[0m \u001b[39mprint\u001b[39m(P2, \u001b[39m\"\u001b[39m\u001b[39m\\n\u001b[39;00m\u001b[39m\"\u001b[39m)\n\u001b[1;32m     32\u001b[0m \u001b[39mprint\u001b[39m(\u001b[39m\"\u001b[39m\u001b[39mProbability distributions (pandas):\u001b[39m\u001b[39m\"\u001b[39m)\n",
      "\u001b[0;31mAttributeError\u001b[0m: 'list' object has no attribute 'values'"
     ]
    }
   ],
   "source": [
    "import pandas as pd\n",
    "import numpy as np\n",
    "\n",
    "# Set the initial traning data\n",
    "A = ['apple']*1 + ['orange']*2 + ['banana']*2\n",
    "B = ['apple']*5 + ['orange']*2 + ['banana']*0\n",
    "\n",
    "# Probability distribution (by hand)\n",
    "P1 = [1/5, 2/5, 2/5] \n",
    "P2 = [5/7, 2/7, 0/7]\n",
    "\n",
    "# Probability distribution (normalize)\n",
    "A = pd.Series(A)\n",
    "B = pd.Series(B)\n",
    "P3 = A.value_counts(normalize=True)\n",
    "P4 = B.value_counts(normalize=True)\n",
    "\n",
    "# Entropy (Shannon model)\n",
    "E3 = -1 * np.sum(P3 * np.log2(P3))\n",
    "E4 = -1 * np.sum(P4 * np.log2(P4))\n",
    "assert E3 > E4\n",
    "\n",
    "# Output results\n",
    "print(\"Datasets:\")\n",
    "print(\"A =\", A.values)\n",
    "print(\"B =\", B.values, \"\\n\")\n",
    "\n",
    "print(\"Probability distributions (by hand):\")\n",
    "print(P1)\n",
    "print(P2, \"\\n\")\n",
    "\n",
    "print(\"Probability distributions (pandas):\")\n",
    "print(P3, '\\n')\n",
    "print(P4, '\\n')\n",
    "\n",
    "print(\"Entropies:\")\n",
    "print(E3)\n",
    "print(E4)"
   ]
  }
 ],
 "metadata": {
  "kernelspec": {
   "display_name": "Python 3",
   "language": "python",
   "name": "python3"
  },
  "language_info": {
   "codemirror_mode": {
    "name": "ipython",
    "version": 3
   },
   "file_extension": ".py",
   "mimetype": "text/x-python",
   "name": "python",
   "nbconvert_exporter": "python",
   "pygments_lexer": "ipython3",
   "version": "3.9.7"
  },
  "orig_nbformat": 4
 },
 "nbformat": 4,
 "nbformat_minor": 2
}
