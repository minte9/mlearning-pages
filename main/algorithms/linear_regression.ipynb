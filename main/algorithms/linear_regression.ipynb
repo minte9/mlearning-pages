{
 "cells": [
  {
   "attachments": {},
   "cell_type": "markdown",
   "metadata": {},
   "source": [
    "### Linear Regression / Gradient Descent\n",
    "\n",
    "The algorithm is used to find the `line` of best fit.  \n",
    "\n",
    "Gradient descent is an `iterative` optimization algorithm that starts with an initial guess  \n",
    "for the slope and the intercept and updates them in the direction of steepest descent of the `cost` function.  \n",
    "\n",
    "The slope or `gradient` of a function in (x,y) point is the derivative.  \n",
    "The cost function measures the `error` between the predicted and actual values.  \n",
    "\n",
    "By `iteratively` updating the m and b values in the direction of the negative gradient,  \n",
    "the algorithm finds the values that `minimize` the mean squared error.  \n",
    "\n",
    "$ \n",
    "    f(x) = ax^2 \\enspace then \\enspace f'(x) = 2ax \n",
    "$"
   ]
  },
  {
   "cell_type": "code",
   "execution_count": 18,
   "metadata": {},
   "outputs": [
    {
     "name": "stdout",
     "output_type": "stream",
     "text": [
      "Best fit line for given data: \n",
      " y = 0.6176946148762643x + 2.136116825825789\n"
     ]
    },
    {
     "data": {
      "image/png": "[encoded data removed]",
      "text/plain": [
       "<Figure size 640x480 with 1 Axes>"
      ]
     },
     "metadata": {},
     "output_type": "display_data"
    }
   ],
   "source": [
    "import numpy as np\n",
    "import matplotlib.pyplot as plt\n",
    "\n",
    "# Create arrays for input data (training dataset)\n",
    "x = np.array([1, 2, 3, 4, 5])\n",
    "y = np.array([2, 4, 5, 4, 5])\n",
    "\n",
    "# Initialize variables for the slope (m) and y-intercept (b) of the line\n",
    "m = 0\n",
    "b = 0\n",
    "\n",
    "# Set the learning rate and the number of iterations for gradient descent\n",
    "learning_rate = 0.01\n",
    "num_iterations = 1000\n",
    "\n",
    "# Perform gradient descent to find the best-fit line\n",
    "for i in range(num_iterations):\n",
    "    \n",
    "    # Calculate the predicted values of y (y_pred) based on the current m and b\n",
    "    y_pred = m*x + b\n",
    "\n",
    "    # Calculate the error between the predicted values and the actual values\n",
    "    error = y - y_pred \n",
    "\n",
    "    # Calculate the derivatives of the cost function with respect to m and b\n",
    "    m_derivative = -(2/len(x)) * sum(x * error)\n",
    "    b_derivative = -(2/len(x)) * sum(error)\n",
    "\n",
    "    # Update the values of m and b using the gradient descent algorithm\n",
    "    m = m - learning_rate * m_derivative\n",
    "    b = b - learning_rate * b_derivative\n",
    "\n",
    "# Output the equation of the best-fit line\n",
    "print(f\"Best fit line for given data: \\n y = {m}x + {b}\")\n",
    "\n",
    "# Round the values of m and b for clarity\n",
    "m = round(m, 1)\n",
    "b = round(b, 1)\n",
    "\n",
    "# Create a plot to visualize the data and the best-fit line\n",
    "fig, ax = plt.subplots()\n",
    "plt.ylim(0, 10)\n",
    "plt.xlim(0, 10)\n",
    "\n",
    "# Plot the data points as 'x' markers in green\n",
    "ax.plot(x,  y,  'x', color='g', label='Training data')\n",
    "\n",
    "# Plot the best-fit line based on the calculated m and b values\n",
    "ax.plot(x, m*x + b,  label=f'h(x) = {m} + {b}x')\n",
    "\n",
    "# Add a legend and display the plot\n",
    "plt.legend()\n",
    "plt.show()"
   ]
  }
 ],
 "metadata": {
  "kernelspec": {
   "display_name": "Python 3",
   "language": "python",
   "name": "python3"
  },
  "language_info": {
   "codemirror_mode": {
    "name": "ipython",
    "version": 3
   },
   "file_extension": ".py",
   "mimetype": "text/x-python",
   "name": "python",
   "nbconvert_exporter": "python",
   "pygments_lexer": "ipython3",
   "version": "3.9.7"
  },
  "orig_nbformat": 4
 },
 "nbformat": 4,
 "nbformat_minor": 2
}
