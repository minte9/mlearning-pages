{
 "cells": [
  {
   "attachments": {},
   "cell_type": "markdown",
   "metadata": {},
   "source": [
    "## Sentiment140 ✨ Logistic Regression"
   ]
  },
  {
   "attachments": {},
   "cell_type": "markdown",
   "metadata": {},
   "source": [
    "### Dataset\n",
    "\n",
    "Load `sentiment140` dataset, assign column names and extract a sample (100.000)"
   ]
  },
  {
   "cell_type": "code",
   "execution_count": 53,
   "metadata": {},
   "outputs": [
    {
     "data": {
      "text/html": [
       "<div>\n",
       "<style scoped>\n",
       "    .dataframe tbody tr th:only-of-type {\n",
       "        vertical-align: middle;\n",
       "    }\n",
       "\n",
       "    .dataframe tbody tr th {\n",
       "        vertical-align: top;\n",
       "    }\n",
       "\n",
       "    .dataframe thead th {\n",
       "        text-align: right;\n",
       "    }\n",
       "</style>\n",
       "<table border=\"1\" class=\"dataframe\">\n",
       "  <thead>\n",
       "    <tr style=\"text-align: right;\">\n",
       "      <th></th>\n",
       "      <th>Sentiment</th>\n",
       "      <th>Text</th>\n",
       "    </tr>\n",
       "  </thead>\n",
       "  <tbody>\n",
       "    <tr>\n",
       "      <th>1073703</th>\n",
       "      <td>4</td>\n",
       "      <td>@yourscenekid Cheer up</td>\n",
       "    </tr>\n",
       "    <tr>\n",
       "      <th>195697</th>\n",
       "      <td>0</td>\n",
       "      <td>It's too cloudy for sunbathing.</td>\n",
       "    </tr>\n",
       "    <tr>\n",
       "      <th>1275633</th>\n",
       "      <td>4</td>\n",
       "      <td>@MonieParedes Oh is that the excuse? I could h...</td>\n",
       "    </tr>\n",
       "    <tr>\n",
       "      <th>959937</th>\n",
       "      <td>4</td>\n",
       "      <td>@shotbykim Nope just a cat (Elmo)</td>\n",
       "    </tr>\n",
       "    <tr>\n",
       "      <th>374604</th>\n",
       "      <td>0</td>\n",
       "      <td>i have not gotten a new moon poster where do t...</td>\n",
       "    </tr>\n",
       "  </tbody>\n",
       "</table>\n",
       "</div>"
      ],
      "text/plain": [
       "         Sentiment                                               Text\n",
       "1073703          4                            @yourscenekid Cheer up \n",
       "195697           0                   It's too cloudy for sunbathing. \n",
       "1275633          4  @MonieParedes Oh is that the excuse? I could h...\n",
       "959937           4                 @shotbykim Nope just a cat (Elmo) \n",
       "374604           0  i have not gotten a new moon poster where do t..."
      ]
     },
     "metadata": {},
     "output_type": "display_data"
    }
   ],
   "source": [
    "import numpy as np\n",
    "import pandas as pd\n",
    "import random\n",
    "\n",
    "# Load dataset\n",
    "df = pd.read_csv('data/sentiment140.csv', header=None, usecols=[0, 5]) # no header in .csv\n",
    "df.columns = ['Sentiment', 'Text']\n",
    "\n",
    "# Sample\n",
    "sample_size = 100_000\n",
    "sample_indices = random.sample(range(len(df)), sample_size)\n",
    "df = df.iloc[sample_indices]\n",
    "\n",
    "display(df.head())"
   ]
  },
  {
   "attachments": {},
   "cell_type": "markdown",
   "metadata": {},
   "source": [
    "### Preprosessing\n",
    "\n",
    "Convert to lowercase, `remove punctuation`, numbers and whitespaces."
   ]
  },
  {
   "cell_type": "code",
   "execution_count": 54,
   "metadata": {},
   "outputs": [
    {
     "data": {
      "text/html": [
       "<div>\n",
       "<style scoped>\n",
       "    .dataframe tbody tr th:only-of-type {\n",
       "        vertical-align: middle;\n",
       "    }\n",
       "\n",
       "    .dataframe tbody tr th {\n",
       "        vertical-align: top;\n",
       "    }\n",
       "\n",
       "    .dataframe thead th {\n",
       "        text-align: right;\n",
       "    }\n",
       "</style>\n",
       "<table border=\"1\" class=\"dataframe\">\n",
       "  <thead>\n",
       "    <tr style=\"text-align: right;\">\n",
       "      <th></th>\n",
       "      <th>Sentiment</th>\n",
       "      <th>Text</th>\n",
       "    </tr>\n",
       "  </thead>\n",
       "  <tbody>\n",
       "    <tr>\n",
       "      <th>1073703</th>\n",
       "      <td>4</td>\n",
       "      <td>yourscenekid cheer up</td>\n",
       "    </tr>\n",
       "    <tr>\n",
       "      <th>195697</th>\n",
       "      <td>0</td>\n",
       "      <td>its too cloudy for sunbathing</td>\n",
       "    </tr>\n",
       "    <tr>\n",
       "      <th>1275633</th>\n",
       "      <td>4</td>\n",
       "      <td>monieparedes oh is that the excuse i could hav...</td>\n",
       "    </tr>\n",
       "    <tr>\n",
       "      <th>959937</th>\n",
       "      <td>4</td>\n",
       "      <td>shotbykim nope just a cat elmo</td>\n",
       "    </tr>\n",
       "    <tr>\n",
       "      <th>374604</th>\n",
       "      <td>0</td>\n",
       "      <td>i have not gotten a new moon poster where do t...</td>\n",
       "    </tr>\n",
       "  </tbody>\n",
       "</table>\n",
       "</div>"
      ],
      "text/plain": [
       "         Sentiment                                               Text\n",
       "1073703          4                              yourscenekid cheer up\n",
       "195697           0                      its too cloudy for sunbathing\n",
       "1275633          4  monieparedes oh is that the excuse i could hav...\n",
       "959937           4                     shotbykim nope just a cat elmo\n",
       "374604           0  i have not gotten a new moon poster where do t..."
      ]
     },
     "metadata": {},
     "output_type": "display_data"
    }
   ],
   "source": [
    "df['Text'] = df['Text'].str.lower()                             # Convert text to lowercase\n",
    "df['Text'] = df['Text'].str.replace('[^\\w\\s]', '', regex=True)  # Remove punctuation\n",
    "df['Text'] = df['Text'].str.replace('\\d+', '', regex=True)      # Remove numbers\n",
    "df['Text'] = df['Text'].str.strip()                             # Strip whitespaces\n",
    "display(df.head())"
   ]
  },
  {
   "attachments": {},
   "cell_type": "markdown",
   "metadata": {},
   "source": [
    "### Training\n",
    "Split data into train and test, convert to `numerical features`, fit the model (Logistic Regression).\n",
    "\n"
   ]
  },
  {
   "cell_type": "code",
   "execution_count": 55,
   "metadata": {},
   "outputs": [
    {
     "name": "stdout",
     "output_type": "stream",
     "text": [
      "Sentiment140 samples = 100000\n",
      "Score on Train: 0.84\n",
      "Score on Test: 0.76\n",
      "Report:               precision    recall  f1-score   support\n",
      "\n",
      "           0       0.77      0.74      0.75     10023\n",
      "           4       0.75      0.78      0.76      9977\n",
      "\n",
      "    accuracy                           0.76     20000\n",
      "   macro avg       0.76      0.76      0.76     20000\n",
      "weighted avg       0.76      0.76      0.76     20000\n",
      "\n"
     ]
    }
   ],
   "source": [
    "from sklearn.feature_extraction.text import TfidfVectorizer\n",
    "from sklearn.model_selection import train_test_split\n",
    "from sklearn.linear_model import LogisticRegression\n",
    "from sklearn.metrics import classification_report\n",
    "\n",
    "# Split the dataset into training and testing sets\n",
    "X = df['Text']\n",
    "y = df['Sentiment']\n",
    "X1, X2, y1, y2 = train_test_split(X, y, test_size=0.2, random_state=0)\n",
    "\n",
    "# Convert text into numerical features\n",
    "tfidf_vectorizer = TfidfVectorizer(stop_words='english')\n",
    "X1 = tfidf_vectorizer.fit_transform(X1)\n",
    "X2 = tfidf_vectorizer.transform(X2)\n",
    "\n",
    "# Train the model\n",
    "classifier = LogisticRegression(max_iter=1000)\n",
    "classifier.fit(X1, y1)\n",
    "\n",
    "# Make predictions on the test set\n",
    "y_pred = classifier.predict(X2)\n",
    "\n",
    "print(\"Sentiment140 samples =\", sample_size)\n",
    "print(\"Score on Train:\", classifier.score(X1, y1).round(2))\n",
    "print(\"Score on Test:\", classifier.score(X2, y2).round(2))\n",
    "print(\"Report:\", classification_report(y2, y_pred))"
   ]
  },
  {
   "attachments": {},
   "cell_type": "markdown",
   "metadata": {},
   "source": [
    "### Predictions\n",
    "\n",
    "Predict unknow `reviews`, from reviews.csv file."
   ]
  },
  {
   "cell_type": "code",
   "execution_count": 56,
   "metadata": {},
   "outputs": [
    {
     "name": "stdout",
     "output_type": "stream",
     "text": [
      "Reviews (unknown):\n",
      "Unknown:\t [0 0 4 4 4 4 4 4 4 4 4 4 4 0 0 0 4 4 4 4 4 4 0 0 0 0 0 0 0 0 0 0 4 4 0]\n",
      "Prediction:\t [4 4 4 4 4 0 4 4 4 4 4 4 4 4 0 4 4 4 4 4 0 4 0 4 0 4 0 4 4 0 0 4 4 4 0]\n",
      "Score on Unknown: 0.69\n",
      "Report:               precision    recall  f1-score   support\n",
      "\n",
      "           0       0.78      0.44      0.56        16\n",
      "           4       0.65      0.89      0.76        19\n",
      "\n",
      "    accuracy                           0.69        35\n",
      "   macro avg       0.72      0.67      0.66        35\n",
      "weighted avg       0.71      0.69      0.67        35\n",
      " \n",
      "\n"
     ]
    }
   ],
   "source": [
    "# Load reviews\n",
    "df_reviews = pd.read_csv('data/reviews.csv')\n",
    "\n",
    "# Convert the sentiment labels\n",
    "df_reviews['Sentiment'] = df_reviews['Sentiment'].map({'negative': 0, 'positive': 4})\n",
    "\n",
    "X_unknown = df_reviews['Review']\n",
    "y_unknown = df_reviews['Sentiment']\n",
    "\n",
    "# Convert text into numerical features\n",
    "X_unknown = tfidf_vectorizer.transform(X_unknown)\n",
    "\n",
    "# Make predictions on unknown set\n",
    "y_unknown_pred = classifier.predict(X_unknown)\n",
    "score = classifier.score(X_unknown, y_unknown)\n",
    "\n",
    "print(\"Reviews (unknown):\")\n",
    "print(\"Unknown:\\t\", y_unknown.values)\n",
    "print(\"Prediction:\\t\", y_unknown_pred)\n",
    "print(\"Score on Unknown:\", score.round(2))\n",
    "print(\"Report:\", classification_report(y_unknown, y_unknown_pred), \"\\n\")"
   ]
  },
  {
   "attachments": {},
   "cell_type": "markdown",
   "metadata": {},
   "source": [
    "### Random One\n",
    "\n",
    "Prediction for `one random` review."
   ]
  },
  {
   "cell_type": "code",
   "execution_count": 57,
   "metadata": {},
   "outputs": [
    {
     "name": "stdout",
     "output_type": "stream",
     "text": [
      "Review:\n",
      " The book starts by explaining each function with an example that makes sense. But it builds on these pieces as the book continues. The approach is well disciplined and pretty quickly you are building solutions. A mix of theory and code with emphasis on the latter. You won't learn calculus but you will learn how to do it from the code. Good for those who dropped out of Andrew Ng's courses and mortals wanting results. Me: 40 years development, MBA, and 5 years data science. Imagining and prediction mostly.\n",
      "Expected: positive\n",
      "Prediction: positive\n"
     ]
    }
   ],
   "source": [
    "random_index = df_reviews.sample().index.item()\n",
    "\n",
    "X_unknown_one = [df_reviews['Review'][random_index]]\n",
    "y_unknown_one = df_reviews['Sentiment'][random_index]\n",
    "\n",
    "labels = {0: 'negative', 4: 'positive'}\n",
    "\n",
    "print(\"Review:\\n\", X_unknown_one[0])\n",
    "print(\"Expected:\", labels[y_unknown_one])\n",
    "\n",
    "# Convert using vectorizer\n",
    "X_unknown_one = tfidf_vectorizer.transform(X_unknown_one)\n",
    "y_pred_one = classifier.predict(X_unknown_one)\n",
    "\n",
    "print(\"Prediction:\", labels[y_unknown_pred[0]])"
   ]
  }
 ],
 "metadata": {
  "kernelspec": {
   "display_name": "Python 3",
   "language": "python",
   "name": "python3"
  },
  "language_info": {
   "codemirror_mode": {
    "name": "ipython",
    "version": 3
   },
   "file_extension": ".py",
   "mimetype": "text/x-python",
   "name": "python",
   "nbconvert_exporter": "python",
   "pygments_lexer": "ipython3",
   "version": "3.9.7"
  },
  "orig_nbformat": 4
 },
 "nbformat": 4,
 "nbformat_minor": 2
}
