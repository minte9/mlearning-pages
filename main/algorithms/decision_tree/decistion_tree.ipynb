{
 "cells": [
  {
   "attachments": {},
   "cell_type": "markdown",
   "metadata": {},
   "source": [
    "### Probability\n",
    "\n",
    "Probability is the `chance` of something to happen.  \n",
    "When you flip a `coin`, there is a probability of 0.5 (or 50% chance) to land on heads.  \n",
    "\n",
    "It's `like` asking, \"What are the chances of something to happen?\"  \n",
    "Probability is a number `between` 0 and 1, where 0 means \"no way\" and 1 means \"definitely happening\".  \n",
    "\n",
    "$ P(\\text{Heads}) = \\frac{1}{2} = 0.5 $"
   ]
  },
  {
   "cell_type": "code",
   "execution_count": 1,
   "metadata": {},
   "outputs": [
    {
     "name": "stdout",
     "output_type": "stream",
     "text": [
      "Head = 0.5\n",
      "Tail = 0.5\n"
     ]
    }
   ],
   "source": [
    "# Coin Flip events\n",
    "events = ['head', 'tail']\n",
    "\n",
    "# Probability distribution (coin flip):\n",
    "print('Head =', 1/2)\n",
    "print('Tail =', 1/len(events))"
   ]
  },
  {
   "attachments": {},
   "cell_type": "markdown",
   "metadata": {},
   "source": [
    "### Probability Distribution\n",
    "\n",
    "Now, imagine you're not just flipping a coin but `rolling` a dice.  \n",
    "There are more `outcomes` (1 through 6), each with its own probability.  \n",
    "\n",
    "A probability distribution is a `list` with all these probabilities.  \n",
    "It's like a `map` with all the possible outcomes and how likely they are.\n",
    "\n",
    "This set of probabilities is the probability distribution for a fair six-sided dice. \n",
    "\n",
    "$ P(1) = \\frac{1}{6} $ \n",
    "$ P(2) = \\frac{1}{6} $\n",
    "$ P(3) = \\frac{1}{6} $\n",
    "$ P(4) = \\frac{1}{6} $\n",
    "$ P(5) = \\frac{1}{6} $\n",
    "$ P(6) = \\frac{1}{6} $\n"
   ]
  },
  {
   "cell_type": "code",
   "execution_count": 12,
   "metadata": {},
   "outputs": [
    {
     "name": "stderr",
     "output_type": "stream",
     "text": [
      "ic| A: ['apple', 'orange', 'orange', 'banana', 'banana']\n",
      "    B: ['apple', 'apple', 'apple', 'apple', 'apple', 'orange', 'orange']\n",
      "ic| P1: [{'apple': 0.2}, {'orange': 0.4}, {'banana': 0.4}]\n",
      "    P2: [{'apple': 0.7142857142857143}, {'orange': 0.2857142857142857}]\n",
      "ic| P1: orange    0.4\n",
      "        banana    0.4\n",
      "        apple     0.2\n",
      "        dtype: float64\n",
      "    P2: apple     0.714286\n",
      "        orange    0.285714\n",
      "        dtype: float64\n"
     ]
    }
   ],
   "source": [
    "import pandas as pd\n",
    "from icecream import ic\n",
    "\n",
    "# Bags datasets\n",
    "A = ['apple']*1 + ['orange']*2 + ['banana']*2\n",
    "B = ['apple']*5 + ['orange']*2 + ['banana']*0\n",
    "ic(A, B)\n",
    "\n",
    "# Probability distribution (by hand)\n",
    "P1 = [{'apple': 1/5}, {'orange': 2/5}, {'banana': 2/5}] \n",
    "P2 = [{'apple': 5/7}, {'orange': 2/7}]\n",
    "ic(P1, P2)\n",
    "\n",
    "# With pandas\n",
    "P1 = pd.Series(A).value_counts(normalize=True)\n",
    "P2 = pd.Series(B).value_counts(normalize=True)\n",
    "ic(P1, P2);"
   ]
  },
  {
   "attachments": {},
   "cell_type": "markdown",
   "metadata": {},
   "source": [
    "### Entropy\n",
    "\n",
    "Entropy is a measure of how `disordered` a collection is.  \n",
    "The more `impure` the feature is, the higher the entropy.  \n",
    "\n",
    "Probability distribution is the `frequency` of the unique values.  \n",
    "It turns out that a `logarithm` of the number of states is perfect for compute entropy.  \n",
    "\n",
    "$ H(X) = -\\sum_{i=1}^{n} P(x_i) \\log_2 P(x_i) $  "
   ]
  },
  {
   "cell_type": "code",
   "execution_count": 14,
   "metadata": {},
   "outputs": [
    {
     "name": "stderr",
     "output_type": "stream",
     "text": [
      "ic| A: ['apple', 'orange', 'orange', 'banana', 'banana']\n",
      "    B: ['apple', 'apple', 'apple', 'apple', 'apple', 'orange', 'orange']\n",
      "ic| P1: orange    0.4\n",
      "        banana    0.4\n",
      "        apple     0.2\n",
      "        dtype: float64\n",
      "    P2: apple     0.714286\n",
      "        orange    0.285714\n",
      "        dtype: float64\n",
      "ic| H1: 1.5219280948873621, H2: 0.863120568566631\n",
      "ic| 'A entropy > B entropy | There is more disorder in A than B'\n",
      "ic| 'Assertion passed'\n"
     ]
    }
   ],
   "source": [
    "import pandas as pd\n",
    "import numpy as np\n",
    "from icecream import ic\n",
    "\n",
    "# Set the initial traning data\n",
    "A = ['apple']*1 + ['orange']*2 + ['banana']*2\n",
    "B = ['apple']*5 + ['orange']*2 + ['banana']*0\n",
    "ic(A, B)\n",
    "\n",
    "# Probability\n",
    "P1 = pd.Series(A).value_counts(normalize=True)\n",
    "P2 = pd.Series(B).value_counts(normalize=True)\n",
    "ic(P1, P2)\n",
    "\n",
    "# Entropy (Shannon model)\n",
    "P1 = P1.values\n",
    "P2 = P2.values\n",
    "H1 = -1 * np.sum(P1 * np.log2(P1))\n",
    "H2 = -1 * np.sum(P2 * np.log2(P2))\n",
    "ic(H1, H2);\n",
    "\n",
    "assert H1 > H2\n",
    "\n",
    "ic(\"A entropy > B entropy | There is more disorder in A than B\")\n",
    "ic(\"Assertion passed\");"
   ]
  }
 ],
 "metadata": {
  "kernelspec": {
   "display_name": "Python 3",
   "language": "python",
   "name": "python3"
  },
  "language_info": {
   "codemirror_mode": {
    "name": "ipython",
    "version": 3
   },
   "file_extension": ".py",
   "mimetype": "text/x-python",
   "name": "python",
   "nbconvert_exporter": "python",
   "pygments_lexer": "ipython3",
   "version": "3.9.7"
  },
  "orig_nbformat": 4
 },
 "nbformat": 4,
 "nbformat_minor": 2
}
