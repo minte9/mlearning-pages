{
 "cells": [
  {
   "attachments": {},
   "cell_type": "markdown",
   "metadata": {},
   "source": [
    "## Pandas ✨ Machine Learning\n"
   ]
  },
  {
   "attachments": {},
   "cell_type": "markdown",
   "metadata": {},
   "source": [
    "### Package\n",
    "\n",
    "Library for working with `relational` or labeled data, built on top of NumPy package. [<u>more details</u>](https://www.learndatasci.com/tutorials/python-pandas-tutorial-complete-introduction-for-beginners/)"
   ]
  },
  {
   "cell_type": "code",
   "execution_count": 1,
   "metadata": {},
   "outputs": [],
   "source": [
    "# pip install pandas\n",
    "\n",
    "import pandas as pd"
   ]
  },
  {
   "attachments": {},
   "cell_type": "markdown",
   "metadata": {},
   "source": [
    "### DataFrame\n",
    "\n",
    "A DataFrame is a `multi-dimensional table` made up from a collection of Series."
   ]
  },
  {
   "cell_type": "code",
   "execution_count": null,
   "metadata": {},
   "outputs": [],
   "source": [
    "data = {\n",
    "    'apples': [3, 2, 0, 1],\n",
    "    'oranges': [0, 3, 7, 2]\n",
    "}\n",
    "\n",
    "df = pd.DataFrame(data)\n",
    "display(df)"
   ]
  },
  {
   "attachments": {},
   "cell_type": "markdown",
   "metadata": {},
   "source": [
    "### Read CSV\n"
   ]
  },
  {
   "attachments": {},
   "cell_type": "markdown",
   "metadata": {},
   "source": [
    "Import a comma-separated values (csv) file into a `DataFrame`."
   ]
  },
  {
   "cell_type": "code",
   "execution_count": null,
   "metadata": {},
   "outputs": [],
   "source": [
    "df = pd.read_csv(\"_data/titanic.csv\")\n",
    "display(df.head())\n",
    "\n",
    "print(\"Size:\", df.size)\n",
    "print(\"Shape:\", df.shape)\n",
    "print(\"Columns:\", df.columns)\n",
    "df.info()"
   ]
  },
  {
   "attachments": {},
   "cell_type": "markdown",
   "metadata": {},
   "source": [
    "### Location\n",
    "\n",
    "Both `iloc` and loc are very useful during search and data cleaning."
   ]
  },
  {
   "cell_type": "code",
   "execution_count": null,
   "metadata": {},
   "outputs": [],
   "source": [
    "df = pd.read_csv(\"_data/titanic.csv\")\n",
    "\n",
    "# Select 2nd to 4th row:\n",
    "display(df.iloc[1:4])\n",
    "\n",
    "# Select by index (name):\n",
    "df = df.set_index(df['Name'])\n",
    "display(df.loc['Allen, Miss Elisabeth Walton'])"
   ]
  },
  {
   "attachments": {},
   "cell_type": "markdown",
   "metadata": {},
   "source": [
    "### Conditional\n",
    "\n",
    "Conditional selecting and `filtering` data are common tasks."
   ]
  },
  {
   "cell_type": "code",
   "execution_count": null,
   "metadata": {},
   "outputs": [],
   "source": [
    "df = pd.read_csv(\"_data/titanic.csv\")\n",
    "\n",
    "females = df[df['Sex'] == 'female']\n",
    "males_60 = df[(df['Sex'] == 'male') & (df['Age'] >= 60)]\n",
    "\n",
    "print(\"Females:\", females.size)\n",
    "display(females.head())\n",
    "\n",
    "print(\"Males age 60+:\", males_60.size)\n",
    "display(males_60.head())"
   ]
  },
  {
   "attachments": {},
   "cell_type": "markdown",
   "metadata": {},
   "source": [
    "### Replace\n",
    "\n",
    "Replace accepts `regex` regular expressions."
   ]
  },
  {
   "cell_type": "code",
   "execution_count": null,
   "metadata": {},
   "outputs": [],
   "source": [
    "df = pd.read_csv(\"_data/titanic.csv\")\n",
    "\n",
    "# Replace female/male\n",
    "df['Sex'] = df['Sex'].replace(['female', 'male'], ['Woman', 'Man'])\n",
    "df['PClass'] = df['PClass'].replace(r'1st', 'First', regex=True)\n",
    "display(df.head())"
   ]
  },
  {
   "attachments": {},
   "cell_type": "markdown",
   "metadata": {},
   "source": [
    "### Statistics\n",
    "\n",
    "Pandas has multiple `built-in methods` for descriptive statistics."
   ]
  },
  {
   "cell_type": "code",
   "execution_count": null,
   "metadata": {},
   "outputs": [],
   "source": [
    "df = pd.read_csv(\"_data/titanic.csv\")\n",
    "\n",
    "# Statistics (by Age)\n",
    "A = pd.DataFrame()\n",
    "A['max'] = [df['Age'].max()]\n",
    "A['min'] = [df['Age'].min()]\n",
    "A['avg'] = [df['Age'].mean()]\n",
    "display(A)\n",
    "\n",
    "# Value counts (by PClass)\n",
    "A = pd.DataFrame()\n",
    "A['PClass'] = df['PClass'].value_counts()\n",
    "display(A)\n",
    "\n",
    "# Unique values (by Sex)\n",
    "A = pd.DataFrame()\n",
    "A['unique_value'] = df['Sex'].unique()\n",
    "A['total'] = [df['Sex'].value_counts()[0], df['Sex'].value_counts()[1]]\n",
    "display(A)\n",
    "\n",
    "# Missing values (by Agge)\n",
    "A = pd.DataFrame()\n",
    "A = df[df['Age'].isnull()]\n",
    "\n",
    "print(\"Missing values (Age):\", A.size)\n",
    "display(A.head())\n"
   ]
  },
  {
   "attachments": {},
   "cell_type": "markdown",
   "metadata": {},
   "source": [
    "### GroupBy\n",
    "\n",
    "Groupby is one of the `most powerful` feature in pandas."
   ]
  },
  {
   "cell_type": "code",
   "execution_count": null,
   "metadata": {},
   "outputs": [],
   "source": [
    "df = pd.read_csv(\"_data/titanic.csv\")\n",
    "\n",
    "A = df.groupby('Sex').count()\n",
    "display(A)\n",
    "\n",
    "A = df.groupby('Sex').mean(numeric_only=True)\n",
    "display(A)\n",
    "\n",
    "A = df.groupby('Sex')['Survived'].count()\n",
    "display(A)\n",
    "\n",
    "A = df.groupby(['Sex', 'Survived']).mean(numeric_only=True)\n",
    "display(A)"
   ]
  },
  {
   "attachments": {},
   "cell_type": "markdown",
   "metadata": {},
   "source": [
    "### Plotting\n",
    "\n",
    "Pandas `integrates` with Matplotlib, so we can directly plot DataFrames."
   ]
  },
  {
   "cell_type": "code",
   "execution_count": null,
   "metadata": {},
   "outputs": [],
   "source": [
    "import matplotlib.pyplot as plt\n",
    "\n",
    "df = pd.read_csv(\"_data/titanic.csv\")\n",
    "\n",
    "df.plot(kind='scatter', x='Age', y='PClass')\n",
    "df['Age'].plot(kind='hist', title='Age')\n"
   ]
  }
 ],
 "metadata": {
  "kernelspec": {
   "display_name": "Python 3",
   "language": "python",
   "name": "python3"
  },
  "language_info": {
   "codemirror_mode": {
    "name": "ipython",
    "version": 3
   },
   "file_extension": ".py",
   "mimetype": "text/x-python",
   "name": "python",
   "nbconvert_exporter": "python",
   "pygments_lexer": "ipython3",
   "version": "3.9.7"
  },
  "orig_nbformat": 4
 },
 "nbformat": 4,
 "nbformat_minor": 2
}
