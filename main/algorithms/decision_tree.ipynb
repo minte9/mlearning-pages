{
 "cells": [
  {
   "attachments": {},
   "cell_type": "markdown",
   "metadata": {},
   "source": [
    "### Entropy\n",
    "\n",
    "Entropy is a measure of how `disordered` a collection is.\n",
    "The `more` impure the feature is, the higher the entropy.  \n",
    "\n",
    "Probability distribution is the `frequency` of the unique values.  \n",
    "It turns out that a `logarithm` of the number of states is perfect for disorder.  \n",
    "\n",
    "$ H(X) = -\\sum_{i=1}^{n} P(x_i) \\log_2 P(x_i) $"
   ]
  },
  {
   "cell_type": "code",
   "execution_count": 19,
   "metadata": {},
   "outputs": [
    {
     "name": "stdout",
     "output_type": "stream",
     "text": [
      "Datasets:\n",
      "A = ['apple' 'orange' 'orange' 'banana' 'banana']\n",
      "B = ['apple' 'apple' 'apple' 'apple' 'apple' 'orange' 'orange'] \n",
      "\n",
      "Probability distributions (by hand):\n",
      "[0.2, 0.4, 0.4]\n",
      "[0.7142857142857143, 0.2857142857142857, 0.0] \n",
      "\n",
      "Probability distributions (pandas):\n",
      "orange    0.4\n",
      "banana    0.4\n",
      "apple     0.2\n",
      "dtype: float64 \n",
      "\n",
      "apple     0.714286\n",
      "orange    0.285714\n",
      "dtype: float64 \n",
      "\n"
     ]
    }
   ],
   "source": [
    "import pandas as pd\n",
    "import numpy as np\n",
    "\n",
    "# Set the initial traning data\n",
    "A = ['apple']*1 + ['orange']*2 + ['banana']*2\n",
    "B = ['apple']*5 + ['orange']*2 + ['banana']*0\n",
    "\n",
    "# Probability distribution (by hand)\n",
    "P1 = [1/5, 2/5, 2/5] \n",
    "P2 = [5/7, 2/7, 0/7]\n",
    "\n",
    "# Probability distribution (normalize)\n",
    "A = pd.Series(A)\n",
    "B = pd.Series(B)\n",
    "\n",
    "P3 = A.value_counts(normalize=True)\n",
    "P4 = B.value_counts(normalize=True)\n",
    "\n",
    "# Entropy (Shannon model)\n",
    "EA = -1 * np.sum(PA * np.log2(PA))\n",
    "EB = -1 * np.sum(PB * np.log2(PB))\n",
    "assert EB < EA\n",
    "\n",
    "# Output results\n",
    "print(\"Datasets:\")\n",
    "print(\"A =\", A.values)\n",
    "print(\"B =\", B.values, \"\\n\")\n",
    "\n",
    "print(\"Probability distributions (by hand):\")\n",
    "print(P1)\n",
    "print(P2, \"\\n\")\n",
    "\n",
    "print(\"Probability distributions (pandas):\")\n",
    "print(P3, '\\n')\n",
    "print(P4, '\\n')"
   ]
  }
 ],
 "metadata": {
  "kernelspec": {
   "display_name": "Python 3",
   "language": "python",
   "name": "python3"
  },
  "language_info": {
   "codemirror_mode": {
    "name": "ipython",
    "version": 3
   },
   "file_extension": ".py",
   "mimetype": "text/x-python",
   "name": "python",
   "nbconvert_exporter": "python",
   "pygments_lexer": "ipython3",
   "version": "3.9.7"
  },
  "orig_nbformat": 4
 },
 "nbformat": 4,
 "nbformat_minor": 2
}
