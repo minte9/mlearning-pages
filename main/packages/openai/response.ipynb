{
 "cells": [
  {
   "attachments": {},
   "cell_type": "markdown",
   "metadata": {},
   "source": [
    "### API Request\n",
    "\n",
    "OpenAI's `text` generation models have been trained to understand natural and formal language.  \n",
    "The inputs to these models are also referred to as `prompts`.  "
   ]
  },
  {
   "cell_type": "code",
   "execution_count": 9,
   "metadata": {},
   "outputs": [
    {
     "name": "stdout",
     "output_type": "stream",
     "text": [
      "Question: What is Flask?\n",
      "Flask is a lightweight and flexible web application framework\n"
     ]
    }
   ],
   "source": [
    "import openai\n",
    "import os\n",
    "\n",
    "from dotenv import load_dotenv\n",
    "load_dotenv()  \n",
    "\n",
    "# Setup OpenAI API key\n",
    "openai.api_key = os.getenv(\"OPENAI_API_KEY\")\n",
    "\n",
    "# User question\n",
    "question = \"What is Flask?\"\n",
    "print(\"Question:\", question)\n",
    "\n",
    "# API response (short answer)\n",
    "response = openai.ChatCompletion.create(\n",
    "    model=\"gpt-3.5-turbo\",\n",
    "    messages=[{\"role\": \"user\", \"content\": question}],\n",
    "    max_tokens=10,\n",
    "    n=1,\n",
    "    stop=None,\n",
    "    temperature=0.7\n",
    ")\n",
    "\n",
    "answer = response['choices'][0]['message']['content']\n",
    "print(answer)"
   ]
  },
  {
   "attachments": {},
   "cell_type": "markdown",
   "metadata": {},
   "source": [
    "### Streaming Completion\n",
    "\n",
    "Streaming completion is an essential functionality for `real-time` text generation applications.  \n",
    "In the context of OpenAI, streaming completions refer to the ability to receive a stream of `tokens`.  "
   ]
  },
  {
   "cell_type": "code",
   "execution_count": 10,
   "metadata": {},
   "outputs": [
    {
     "name": "stdout",
     "output_type": "stream",
     "text": [
      "Question: What is Flask?\n",
      "Flask is a lightweight and versatile web application framework for Python. It is designed to make it easy to build web applications quickly and with minimal code. Flask is known for its simplicity, flexibility, and easy-to-use nature, making it a popular choice for developers looking to create web applications and APIs."
     ]
    }
   ],
   "source": [
    "import openai\n",
    "import os, sys\n",
    "\n",
    "from dotenv import load_dotenv\n",
    "load_dotenv()  \n",
    "\n",
    "# Setup OpenAI API key\n",
    "openai.api_key = os.getenv(\"OPENAI_API_KEY\")\n",
    "\n",
    "question = \"What is Flask?\" \n",
    "print(\"Question:\", question)\n",
    "\n",
    "response = openai.ChatCompletion.create(\n",
    "    model=\"gpt-3.5-turbo\",\n",
    "    messages=[{\"role\": \"user\", \"content\": question}],\n",
    "    max_tokens=256,\n",
    "    n=1,\n",
    "    stop=None,\n",
    "    temperature=0.7,\n",
    "    stream=True\n",
    ")\n",
    "\n",
    "for chunk in response:\n",
    "    content = chunk[\"choices\"][0][\"delta\"].get(\"content\", \"\")\n",
    "    print(content, end=\"\", flush=True)"
   ]
  },
  {
   "attachments": {},
   "cell_type": "markdown",
   "metadata": {},
   "source": [
    "### Conversation History\n",
    "\n",
    "You can use the GPT API to create a conversation where the model `remembers` the context.   \n",
    "You'll need to maintain the conversation history and include that history in `subsequent` requests. "
   ]
  },
  {
   "cell_type": "code",
   "execution_count": 11,
   "metadata": {},
   "outputs": [
    {
     "name": "stdout",
     "output_type": "stream",
     "text": [
      "\n",
      "Question: What is Flask? Keep the answers short.\n",
      "Flask is a lightweight, open-source web framework for Python used to build web applications quickly and easily.\n",
      "Question: What's the current version?\n",
      "As of June 2024, the latest stable version of Flask is **3.0.3**."
     ]
    }
   ],
   "source": [
    "import openai\n",
    "import os, sys\n",
    "\n",
    "from dotenv import load_dotenv\n",
    "load_dotenv()  \n",
    "\n",
    "# Setup OpenAI API key\n",
    "openai.api_key = os.getenv(\"OPENAI_API_KEY\")\n",
    "\n",
    "# Initialize conversation history\n",
    "conversation_history = []\n",
    "\n",
    "# Question stream\n",
    "questions = [\n",
    "    \"What is Flask? Keep the answers short.\",\n",
    "    \"What's the current version?\"\n",
    "]\n",
    "\n",
    "for question in questions:\n",
    "    print(\"\\nQuestion:\", question)\n",
    "\n",
    "    # Add user question to conversation history\n",
    "    conversation_history.append({\"role\": \"user\", \"content\": question})\n",
    "\n",
    "    response = openai.ChatCompletion.create(\n",
    "        model=\"gpt-4.1\",\n",
    "        messages=conversation_history,\n",
    "        max_tokens=64,\n",
    "        n=1,\n",
    "        stop=None,\n",
    "        temperature=0.7,\n",
    "        stream=True\n",
    "    )\n",
    "\n",
    "    for chunk in response:\n",
    "        content = chunk[\"choices\"][0][\"delta\"].get(\"content\", \"\")\n",
    "        print(content, end=\"\", flush=True)\n",
    "\n",
    "    # Add API response to converstion history\n",
    "    conversation_history.append({\"role\": \"system\", \"content\": content})"
   ]
  },
  {
   "attachments": {},
   "cell_type": "markdown",
   "metadata": {},
   "source": [
    "### Context Message\n",
    "\n",
    "You can add a context message at the `start` of the conversation to instruct the model.  "
   ]
  },
  {
   "cell_type": "code",
   "execution_count": 12,
   "metadata": {},
   "outputs": [
    {
     "name": "stdout",
     "output_type": "stream",
     "text": [
      "\n",
      "Question: What is Flask? Keep the answers short.\n",
      "Flask is a lightweight web framework for Python.\n",
      "Question: What's the current version?\n",
      "The current version of Flask is 2.0.1."
     ]
    }
   ],
   "source": [
    "import openai\n",
    "import os, sys\n",
    "\n",
    "from dotenv import load_dotenv\n",
    "load_dotenv()  \n",
    "\n",
    "# Setup OpenAI API key\n",
    "openai.api_key = os.getenv(\"OPENAI_API_KEY\")\n",
    "\n",
    "# Initialize conversation history\n",
    "conversation_history = []\n",
    "\n",
    "# Context for keeping answers short\n",
    "context_message = {\n",
    "    \"role\": \"system\",\n",
    "    \"content\": \"System: Please keep the answers short\"\n",
    "}\n",
    "conversation_history.append(context_message)\n",
    "\n",
    "# Question stream\n",
    "questions = [\n",
    "    \"What is Flask? Keep the answers short.\",\n",
    "    \"What's the current version?\"\n",
    "]\n",
    "\n",
    "for question in questions:\n",
    "    print(\"\\nQuestion:\", question)\n",
    "\n",
    "    # Add user question to conversation history\n",
    "    conversation_history.append({\"role\": \"user\", \"content\": question})\n",
    "\n",
    "    response = openai.ChatCompletion.create(\n",
    "        model=\"gpt-3.5-turbo\",\n",
    "        messages=conversation_history,\n",
    "        max_tokens=64,\n",
    "        n=1,\n",
    "        stop=None,\n",
    "        temperature=0.7,\n",
    "        stream=True\n",
    "    )\n",
    "\n",
    "    for chunk in response:\n",
    "        content = chunk[\"choices\"][0][\"delta\"].get(\"content\", \"\")\n",
    "        print(content, end=\"\", flush=True)\n",
    "\n",
    "    # Add API response to converstion history\n",
    "    conversation_history.append({\"role\": \"system\", \"content\": content})"
   ]
  },
  {
   "cell_type": "markdown",
   "metadata": {},
   "source": [
    "### AI Agent\n",
    "\n",
    "An AI agent is a software system that uses artificial intelligence to perceive information, make decisions, and take actions.    \n",
    "Unlike traditional scripts that follow fixed instructions, AI agents can analyze input dynamically,  \n",
    "decide what to do next based on that prior context and adapt to new situations.  "
   ]
  },
  {
   "cell_type": "code",
   "execution_count": null,
   "metadata": {},
   "outputs": [
    {
     "name": "stdout",
     "output_type": "stream",
     "text": [
      "\n",
      "--- Explain the 'function' topic in Python. Keep the answer short, without examples.\n",
      "\n",
      "How difficult is the topic 'function' in Python for beginners? Just reply with a number, 1 to 5.\n",
      "Difficulty: 3\n",
      "\n",
      "In Python, a **function** is a reusable block of code that performs a specific task. It can accept inputs (parameters), execute code, and return a result. Functions help organize code, promote reusability, and improve clarity. They are defined using the `def` keyword, followed by a name and parentheses. Functions can be called whenever needed within a program.\n",
      "\n",
      "--- Explain the concept similar to function in PHP. Keep the answer short, without examples.\n",
      "\n",
      "How difficult is the topic 'function' in PHP for beginners? Just reply with a number, 1 to 5.\n",
      "Difficulty: 2\n",
      "\n",
      "In PHP, the concept similar to a function is called a \"function\". It is a reusable block of code designed to perform a specific task, which can be called or invoked whenever needed within a script. Functions help organize code, promote reusability, and improve readability.\n",
      "\n",
      "--- Explain the equivalent concept of function in Java. Keep the answer short, without examples.\n",
      "\n",
      "How difficult is the topic 'function' in Java for beginners? Just reply with a number, 1 to 5.\n",
      "Difficulty: 2\n",
      "\n",
      "In Java, the equivalent concept of a function is called a **method**. Methods are defined within classes and perform specific tasks or operations.\n"
     ]
    }
   ],
   "source": [
    "import openai\n",
    "import os, sys\n",
    "\n",
    "from dotenv import load_dotenv\n",
    "load_dotenv()  \n",
    "\n",
    "# Setup OpenAI API key\n",
    "openai.api_key = os.getenv(\"OPENAI_API_KEY\")\n",
    "\n",
    "# Query openai\n",
    "def query_chatgpt(prompt):\n",
    "    print(\"\\n\" + prompt)\n",
    "\n",
    "    response = openai.ChatCompletion.create(\n",
    "        model=\"gpt-4.1\",\n",
    "        messages=[{\"role\": \"user\", \"content\": prompt}],\n",
    "    )\n",
    "\n",
    "    return response['choices'][0]['message']['content'].strip()\n",
    "\n",
    "# Input\n",
    "topic = \"function\"\n",
    "\n",
    "languages = {\n",
    "    \"Python\": f\"Explain the '{topic}' topic in Python. \",\n",
    "    \"PHP\": f\"Explain the concept similar to {topic} in PHP. \",\n",
    "    \"Java\": f\"Explain the equivalent concept of {topic} in Java. \",\n",
    "}\n",
    "\n",
    "context = \"Keep the answer short, without examples.\"\n",
    "\n",
    "for lang, prompt in languages.items():\n",
    "\n",
    "    summary = query_chatgpt(\"--- \" + prompt + context)\n",
    "    \n",
    "    # AI Agent part \n",
    "    # The agent decides what to do next based on results\n",
    "    prompt_2 = f\"How difficult is the topic '{topic}' in {lang} for beginners? Just reply with a number, 1 to 5.\"\n",
    "    difficulty = query_chatgpt(prompt_2)\n",
    "\n",
    "    # Output\n",
    "    print(\"Difficulty: \" + difficulty + \"\\n\")\n",
    "    print(summary)\n",
    "\n",
    "    if int(difficulty) >= 4:\n",
    "        code = query_chatgpt(f\"Give a code example of {topic} in {lang}\")\n",
    "        qna = query_chatgpt(f\"Create 3 beginner questions and answers about {topic} in {lang}.\")\n",
    "\n",
    "        # Output\n",
    "        print(code)\n",
    "        print(qna)\n",
    "\n",
    "    "
   ]
  },
  {
   "attachments": {},
   "cell_type": "markdown",
   "metadata": {},
   "source": [
    "### References\n",
    "\n",
    "https://levelup.gitconnected.com/build-your-own-question-answering-system-with-openai-and-flask-2200507ac601\n",
    "https://platform.openai.com/docs/quickstart?context=python  \n",
    "https://blog.finxter.com/python-openai-streaming-completions"
   ]
  }
 ],
 "metadata": {
  "kernelspec": {
   "display_name": "Python 3",
   "language": "python",
   "name": "python3"
  },
  "language_info": {
   "codemirror_mode": {
    "name": "ipython",
    "version": 3
   },
   "file_extension": ".py",
   "mimetype": "text/x-python",
   "name": "python",
   "nbconvert_exporter": "python",
   "pygments_lexer": "ipython3",
   "version": "3.9.7"
  },
  "orig_nbformat": 4
 },
 "nbformat": 4,
 "nbformat_minor": 2
}
