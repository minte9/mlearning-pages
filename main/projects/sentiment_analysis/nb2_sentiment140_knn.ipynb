{
 "cells": [
  {
   "attachments": {},
   "cell_type": "markdown",
   "metadata": {},
   "source": [
    "## Sentiment140 ✨ KNN Classifier"
   ]
  },
  {
   "attachments": {},
   "cell_type": "markdown",
   "metadata": {},
   "source": [
    "### Dataset\n",
    "\n",
    "Sentiment140 contains `1,600,000 tweets` extracted using the twitter api.  \n",
    "The tweets have been annotated (`0 = negative, 4 = positive`) and they can be used to detect sentiment."
   ]
  },
  {
   "cell_type": "code",
   "execution_count": 106,
   "metadata": {},
   "outputs": [
    {
     "data": {
      "text/html": [
       "<div>\n",
       "<style scoped>\n",
       "    .dataframe tbody tr th:only-of-type {\n",
       "        vertical-align: middle;\n",
       "    }\n",
       "\n",
       "    .dataframe tbody tr th {\n",
       "        vertical-align: top;\n",
       "    }\n",
       "\n",
       "    .dataframe thead th {\n",
       "        text-align: right;\n",
       "    }\n",
       "</style>\n",
       "<table border=\"1\" class=\"dataframe\">\n",
       "  <thead>\n",
       "    <tr style=\"text-align: right;\">\n",
       "      <th></th>\n",
       "      <th>Sentiment</th>\n",
       "      <th>Text</th>\n",
       "    </tr>\n",
       "  </thead>\n",
       "  <tbody>\n",
       "    <tr>\n",
       "      <th>0</th>\n",
       "      <td>0</td>\n",
       "      <td>@switchfoot http://twitpic.com/2y1zl - Awww, t...</td>\n",
       "    </tr>\n",
       "    <tr>\n",
       "      <th>1</th>\n",
       "      <td>0</td>\n",
       "      <td>is upset that he can't update his Facebook by ...</td>\n",
       "    </tr>\n",
       "    <tr>\n",
       "      <th>2</th>\n",
       "      <td>0</td>\n",
       "      <td>@Kenichan I dived many times for the ball. Man...</td>\n",
       "    </tr>\n",
       "    <tr>\n",
       "      <th>3</th>\n",
       "      <td>0</td>\n",
       "      <td>my whole body feels itchy and like its on fire</td>\n",
       "    </tr>\n",
       "    <tr>\n",
       "      <th>4</th>\n",
       "      <td>0</td>\n",
       "      <td>@nationwideclass no, it's not behaving at all....</td>\n",
       "    </tr>\n",
       "  </tbody>\n",
       "</table>\n",
       "</div>"
      ],
      "text/plain": [
       "   Sentiment                                               Text\n",
       "0          0  @switchfoot http://twitpic.com/2y1zl - Awww, t...\n",
       "1          0  is upset that he can't update his Facebook by ...\n",
       "2          0  @Kenichan I dived many times for the ball. Man...\n",
       "3          0    my whole body feels itchy and like its on fire \n",
       "4          0  @nationwideclass no, it's not behaving at all...."
      ]
     },
     "metadata": {},
     "output_type": "display_data"
    },
    {
     "name": "stdout",
     "output_type": "stream",
     "text": [
      "Shape: (1600000, 2)\n"
     ]
    }
   ],
   "source": [
    "import numpy as np\n",
    "import pandas as pd\n",
    "\n",
    "df = pd.read_csv(\"data/sentiment140.csv\", header=None, usecols=[0, 5]) # no header in .csv\n",
    "\n",
    "# Assign column names\n",
    "df.columns = ['Sentiment', 'Text']\n",
    "\n",
    "display(df.head())\n",
    "print(\"Shape:\", df.shape)"
   ]
  },
  {
   "attachments": {},
   "cell_type": "markdown",
   "metadata": {},
   "source": [
    "### Sample\n",
    "\n",
    "Get a `sample` from this huge dataset (otherwise won't work)."
   ]
  },
  {
   "cell_type": "code",
   "execution_count": 107,
   "metadata": {},
   "outputs": [
    {
     "data": {
      "text/html": [
       "<div>\n",
       "<style scoped>\n",
       "    .dataframe tbody tr th:only-of-type {\n",
       "        vertical-align: middle;\n",
       "    }\n",
       "\n",
       "    .dataframe tbody tr th {\n",
       "        vertical-align: top;\n",
       "    }\n",
       "\n",
       "    .dataframe thead th {\n",
       "        text-align: right;\n",
       "    }\n",
       "</style>\n",
       "<table border=\"1\" class=\"dataframe\">\n",
       "  <thead>\n",
       "    <tr style=\"text-align: right;\">\n",
       "      <th></th>\n",
       "      <th>Sentiment</th>\n",
       "      <th>Text</th>\n",
       "    </tr>\n",
       "  </thead>\n",
       "  <tbody>\n",
       "    <tr>\n",
       "      <th>1408295</th>\n",
       "      <td>4</td>\n",
       "      <td>@sara_tx I'm glad you and Cyrus made it home.</td>\n",
       "    </tr>\n",
       "    <tr>\n",
       "      <th>491156</th>\n",
       "      <td>0</td>\n",
       "      <td>mowing the yard...my favorite pass time</td>\n",
       "    </tr>\n",
       "    <tr>\n",
       "      <th>86743</th>\n",
       "      <td>0</td>\n",
       "      <td>Tryin to sleep. :/ Its hard.</td>\n",
       "    </tr>\n",
       "    <tr>\n",
       "      <th>16733</th>\n",
       "      <td>0</td>\n",
       "      <td>i feel i need a hug</td>\n",
       "    </tr>\n",
       "    <tr>\n",
       "      <th>432174</th>\n",
       "      <td>0</td>\n",
       "      <td>What to do for the last week of summer *hopefu...</td>\n",
       "    </tr>\n",
       "  </tbody>\n",
       "</table>\n",
       "</div>"
      ],
      "text/plain": [
       "         Sentiment                                               Text\n",
       "1408295          4     @sara_tx I'm glad you and Cyrus made it home. \n",
       "491156           0           mowing the yard...my favorite pass time \n",
       "86743            0                      Tryin to sleep. :/ Its hard. \n",
       "16733            0                               i feel i need a hug \n",
       "432174           0  What to do for the last week of summer *hopefu..."
      ]
     },
     "metadata": {},
     "output_type": "display_data"
    },
    {
     "name": "stdout",
     "output_type": "stream",
     "text": [
      "Shape: (10000, 2)\n"
     ]
    }
   ],
   "source": [
    "import random\n",
    "\n",
    "# Sample\n",
    "sample_size = 10_000\n",
    "indices = random.sample(range(len(df)), sample_size)\n",
    "df = df.iloc[indices]\n",
    "\n",
    "display(df.head())\n",
    "print(\"Shape:\", df.shape)"
   ]
  },
  {
   "attachments": {},
   "cell_type": "markdown",
   "metadata": {},
   "source": [
    "### Split data\n",
    "\n",
    "Split the dataset into training and testing `data sets`."
   ]
  },
  {
   "cell_type": "code",
   "execution_count": 108,
   "metadata": {},
   "outputs": [
    {
     "data": {
      "text/plain": [
       "1557092    had a blast this weekend it was melissas bday,...\n",
       "1184596                         @mileycyrus i voted for you \n",
       "1518980    @DivaWonderGirl OMJ! U hv 94 followers  I thin...\n",
       "316149             @webholics same shit here...  #hosteurope\n",
       "965394                                           @WereATeam \n",
       "Name: Text, dtype: object"
      ]
     },
     "metadata": {},
     "output_type": "display_data"
    },
    {
     "data": {
      "text/plain": [
       "1557092    4\n",
       "1184596    4\n",
       "1518980    4\n",
       "316149     0\n",
       "965394     4\n",
       "Name: Sentiment, dtype: int64"
      ]
     },
     "metadata": {},
     "output_type": "display_data"
    }
   ],
   "source": [
    "from sklearn.model_selection import train_test_split\n",
    "\n",
    "X = df['Text']\n",
    "y = df['Sentiment']\n",
    "X1, X2, y1, y2 = train_test_split(X, y, test_size=0.2, random_state=0)\n",
    "\n",
    "display(X1.head())\n",
    "display(y1.head())"
   ]
  },
  {
   "attachments": {},
   "cell_type": "markdown",
   "metadata": {},
   "source": [
    "### Vectorize\n",
    "\n",
    "Convert text into `numerical` features."
   ]
  },
  {
   "cell_type": "code",
   "execution_count": 109,
   "metadata": {},
   "outputs": [
    {
     "name": "stdout",
     "output_type": "stream",
     "text": [
      "[[0. 0. 0. ... 0. 0. 0.]\n",
      " [0. 0. 0. ... 0. 0. 0.]\n",
      " [0. 0. 0. ... 0. 0. 0.]\n",
      " ...\n",
      " [0. 0. 0. ... 0. 0. 0.]\n",
      " [0. 0. 0. ... 0. 0. 0.]\n",
      " [0. 0. 0. ... 0. 0. 0.]]\n"
     ]
    }
   ],
   "source": [
    "from sklearn.feature_extraction.text import TfidfVectorizer\n",
    "\n",
    "tfidf_vectorizer = TfidfVectorizer()\n",
    "X1 = tfidf_vectorizer.fit_transform(X1)\n",
    "X2 = tfidf_vectorizer.transform(X2)\n",
    "\n",
    "print(X1.toarray())"
   ]
  },
  {
   "attachments": {},
   "cell_type": "markdown",
   "metadata": {},
   "source": [
    "### KNN Classifier\n",
    "\n",
    "Train the KNN `classifier` using train (X1) dataset."
   ]
  },
  {
   "cell_type": "code",
   "execution_count": 110,
   "metadata": {},
   "outputs": [
    {
     "name": "stdout",
     "output_type": "stream",
     "text": [
      "Sentiment140 / samples = 10000\n",
      "Score on Train: 0.8\n",
      "Score on Test: 0.67\n",
      "Report:               precision    recall  f1-score   support\n",
      "\n",
      "           0       0.66      0.71      0.68       998\n",
      "           4       0.69      0.63      0.66      1002\n",
      "\n",
      "    accuracy                           0.67      2000\n",
      "   macro avg       0.67      0.67      0.67      2000\n",
      "weighted avg       0.67      0.67      0.67      2000\n",
      "\n"
     ]
    }
   ],
   "source": [
    "from sklearn.neighbors import KNeighborsClassifier\n",
    "from sklearn.metrics import classification_report\n",
    "\n",
    "knn = KNeighborsClassifier()\n",
    "knn.fit(X1, y1)\n",
    "\n",
    "# Make predictions on the test set\n",
    "y_pred = knn.predict(X2)\n",
    "\n",
    "# Reports\n",
    "print(\"Sentiment140 / samples =\", sample_size)\n",
    "print(\"Score on Train:\", knn.score(X1, y1).round(2))\n",
    "print(\"Score on Test:\", knn.score(X2, y2).round(2))\n",
    "print(\"Report:\", classification_report(y2, y_pred))"
   ]
  },
  {
   "attachments": {},
   "cell_type": "markdown",
   "metadata": {},
   "source": [
    "### Predictions\n",
    "\n",
    "Make prediction for `reviews` (from .csv file)."
   ]
  },
  {
   "cell_type": "code",
   "execution_count": 111,
   "metadata": {},
   "outputs": [
    {
     "name": "stdout",
     "output_type": "stream",
     "text": [
      "Reviews (unknown):\n",
      "Unknown:\t [0 0 4 4 4 4 4 4 4 4 4 4 4 0 0 0 4 4 4 4 4 4 0 0 0 0 0 0 0 0 0 0 4 4 0]\n",
      "Prediction:\t [0 0 0 0 4 0 0 0 0 0 4 4 4 0 0 4 0 0 4 0 0 4 0 0 0 0 4 0 0 0 0 0 0 0 0]\n",
      "Score on Reviews: 0.57\n"
     ]
    }
   ],
   "source": [
    "# Load reviews\n",
    "df_reviews = pd.read_csv('data/reviews.csv')\n",
    "\n",
    "# Convert the sentiment labels\n",
    "df_reviews['Sentiment'] = df_reviews['Sentiment'].map({'negative': 0, 'positive': 4})\n",
    "\n",
    "X_unknown = df_reviews['Review']\n",
    "y_unknown = df_reviews['Sentiment']\n",
    "\n",
    "labels = {0: 'negative', 4: 'positive'}\n",
    "\n",
    "# Convert using vectorizer\n",
    "X_unknown = tfidf_vectorizer.transform(X_unknown)\n",
    "y_pred_unknown = knn.predict(X_unknown)\n",
    "\n",
    "print(\"Reviews (unknown):\")\n",
    "print(\"Unknown:\\t\", y_unknown.values)\n",
    "print(\"Prediction:\\t\", y_pred_unknown)\n",
    "print(\"Score on Reviews:\", knn.score(X_unknown, y_unknown).round(2))"
   ]
  },
  {
   "attachments": {},
   "cell_type": "markdown",
   "metadata": {},
   "source": [
    "### Random One\n",
    "\n",
    "Prediction for `one random` review."
   ]
  },
  {
   "cell_type": "code",
   "execution_count": 116,
   "metadata": {},
   "outputs": [
    {
     "name": "stdout",
     "output_type": "stream",
     "text": [
      "Review:\n",
      " Utter waste of money. As someone that has done a fair bit of coding in the past I wanted an introductory text to Python - something that would outline what could really be done with the programming language and provide an entry point to it. What a waste. The book is elementary on the one hand - and yet manages to miss a ton of required detail to actually do anything useful. Don't waste your time with it.\n",
      "Expected: negative\n",
      "Prediction: negative\n"
     ]
    }
   ],
   "source": [
    "random_index = df_reviews.sample().index.item()\n",
    "\n",
    "X_unknown_one = [df_reviews['Review'][random_index]]\n",
    "y_unknown_one = df_reviews['Sentiment'][random_index]\n",
    "\n",
    "labels = {0: 'negative', 4: 'positive'}\n",
    "\n",
    "print(\"Review:\\n\", X_unknown_one[0])\n",
    "print(\"Expected:\", labels[y_unknown_one])\n",
    "\n",
    "# Convert using vectorizer\n",
    "X_unknown_one = tfidf_vectorizer.transform(X_unknown_one)\n",
    "y_pred_one = knn.predict(X_unknown_one)\n",
    "\n",
    "print(\"Prediction:\", labels[y_unknown_pred[0]])"
   ]
  }
 ],
 "metadata": {
  "kernelspec": {
   "display_name": "Python 3",
   "language": "python",
   "name": "python3"
  },
  "language_info": {
   "codemirror_mode": {
    "name": "ipython",
    "version": 3
   },
   "file_extension": ".py",
   "mimetype": "text/x-python",
   "name": "python",
   "nbconvert_exporter": "python",
   "pygments_lexer": "ipython3",
   "version": "3.9.7"
  },
  "orig_nbformat": 4
 },
 "nbformat": 4,
 "nbformat_minor": 2
}
